{
 "cells": [
  {
   "cell_type": "markdown",
   "id": "45e1bf9e",
   "metadata": {},
   "source": [
    "# Comparison of Four Methods for Solving the Same PDE\n",
    "\n",
    "In this notebook, we explore and compare four different numerical methods for solving the same partial differential equation (PDE):\n",
    "\n",
    "$$\n",
    "\\varepsilon \\cdot (-\\Delta u) + \\nabla u \\cdot w + \\partial_t u = ((\\varepsilon \\pi^2 - 1) \\sin(\\pi x) + \\pi \\cos(\\pi x)) \\cdot e^{-t}\n",
    "$$\n",
    "\n",
    "The domain is defined as:\n",
    "\n",
    "- Spatial domain: $\\Omega = [0, 1]$\n",
    "- Time interval: $t \\in [0, 1]$\n",
    "\n",
    "## Analytical Solution\n",
    "\n",
    "The analytical solution to this PDE is:\n",
    "\n",
    "$$\n",
    "u(x, t) = \\sin(\\pi x) \\cdot e^{-t}\n",
    "$$\n",
    "\n",
    "## Initial and Boundary Conditions\n",
    "\n",
    "- **Initial condition**: $u(x, 0) = \\sin(\\pi x)$\n",
    "- **Boundary conditions**: Dirichlet boundary conditions with $u(0, t) = u(1, t) = 0$\n",
    "\n",
    "## Methods Compared\n",
    "\n",
    "We investigate the performance of the following four methods:\n",
    "\n",
    "1. **Continuous Galerkin (CG)**  \n",
    "   This standard method performs poorly for the given problem due to stability issues.\n",
    "\n",
    "2. **SUPG (as described in the literature)**  \n",
    "   A stabilized version of CG that adds artificial diffusion aligned with the flow direction.\n",
    "\n",
    "3. **SUPG (Eigen implementation)**  \n",
    "   Our own implementation of SUPG using the Eigen library, offering improved numerical stability.\n",
    "\n",
    "4. **Discontinuous Galerkin (DG)**  \n",
    "   A fully discontinuous approach that handles convection-dominated problems well, at the cost of increased degrees of freedom.\n",
    "\n",
    "Each method is tested under the same conditions, and their accuracy and stability are analyzed in comparison with the analytical solution.\n"
   ]
  },
  {
   "cell_type": "code",
   "execution_count": 17,
   "id": "13cd4e16",
   "metadata": {},
   "outputs": [
    {
     "data": {
      "application/vnd.jupyter.widget-view+json": {
       "model_id": "e78ef827215e46c3bdfb38d0e7bef236",
       "version_major": 2,
       "version_minor": 0
      },
      "text/plain": [
       "WebGuiWidget(layout=Layout(height='500px', width='100%'), value={'gui_settings': {}, 'ngsolve_version': '6.2.2…"
      ]
     },
     "metadata": {},
     "output_type": "display_data"
    },
    {
     "data": {
      "text/plain": [
       "BaseWebGuiScene"
      ]
     },
     "execution_count": 17,
     "metadata": {},
     "output_type": "execute_result"
    }
   ],
   "source": [
    "from ngsolve import *\n",
    "from netgen.geom2d import SplineGeometry\n",
    "from ngsolve.webgui import Draw\n",
    "from netgen.occ import *\n",
    "\n",
    "T = 1 # length of the time interval\n",
    "shape = Rectangle(1,T).Face()\n",
    "shape.edges.Min(X).name=\"left\"\n",
    "shape.edges.Max(X).name=\"right\"\n",
    "shape.edges.Min(Y).name=\"bottom\"\n",
    "shape.edges.Max(Y).name=\"top\"\n",
    "mesh = Mesh(OCCGeometry(shape, dim=2).GenerateMesh(maxh=0.05))\n",
    "Draw(mesh)"
   ]
  },
  {
   "cell_type": "markdown",
   "id": "1cf013aa",
   "metadata": {},
   "source": [
    "# Classical CG weakformulation performs bad in the convection-dominated regime"
   ]
  },
  {
   "cell_type": "code",
   "execution_count": 18,
   "id": "90d49e21",
   "metadata": {},
   "outputs": [
    {
     "data": {
      "application/vnd.jupyter.widget-view+json": {
       "model_id": "2fcdd408079544da8663030d00946c58",
       "version_major": 2,
       "version_minor": 0
      },
      "text/plain": [
       "WebGuiWidget(layout=Layout(height='500px', width='100%'), value={'gui_settings': {}, 'ngsolve_version': '6.2.2…"
      ]
     },
     "metadata": {},
     "output_type": "display_data"
    },
    {
     "name": "stdout",
     "output_type": "stream",
     "text": [
      "0.0006704186369805753\n"
     ]
    },
    {
     "data": {
      "application/vnd.jupyter.widget-view+json": {
       "model_id": "7bf62525317342938fd7dca6dff51da8",
       "version_major": 2,
       "version_minor": 0
      },
      "text/plain": [
       "WebGuiWidget(layout=Layout(height='500px', width='100%'), value={'gui_settings': {}, 'ngsolve_version': '6.2.2…"
      ]
     },
     "metadata": {},
     "output_type": "display_data"
    },
    {
     "data": {
      "text/plain": [
       "BaseWebGuiScene"
      ]
     },
     "execution_count": 18,
     "metadata": {},
     "output_type": "execute_result"
    }
   ],
   "source": [
    "fes = H1(mesh, order=1, dirichlet=\"bottom|right|left\")\n",
    "u,v = fes.TnT()\n",
    "n = specialcf.normal(2)\n",
    "w = 1 # the wind speed\n",
    "eps = 0.001 # the diffusion coefficient\n",
    "\n",
    "ux = CoefficientFunction((grad(u)[0]))\n",
    "B = CoefficientFunction((w,1))\n",
    "a = BilinearForm(fes, symmetric=False)\n",
    "a += eps*ux*grad(v)[0]*dx \n",
    "a += (B*grad(u))*v*dx\n",
    "a.Assemble()\n",
    "\n",
    "f1 = CoefficientFunction(((eps*pi**2-1)*sin(pi*x)+pi*cos(pi*x))*exp(-y))\n",
    "f = LinearForm(fes)\n",
    "f += f1*v*dx\n",
    "f.Assemble()\n",
    "\n",
    "gfu = GridFunction(fes)\n",
    "gfu.Set(sin(pi*x),BND)  # initial condition\n",
    "\n",
    "res = f.vec.CreateVector()\n",
    "res.data = f.vec - a.mat * gfu.vec\n",
    "gfu.vec.data += a.mat.Inverse(fes.FreeDofs()) * res\n",
    "Draw(gfu)\n",
    "\n",
    "uexact = sin(pi*x)*exp(-y)\n",
    "l2error = sqrt(Integrate((gfu-(uexact))**2, mesh))\n",
    "print(l2error)\n",
    "Draw(uexact, mesh, \"exact\")"
   ]
  },
  {
   "cell_type": "markdown",
   "id": "d6d7eaf9",
   "metadata": {},
   "source": [
    "# Notebook for the SUPG formulation from the Paper"
   ]
  },
  {
   "cell_type": "code",
   "execution_count": 19,
   "id": "cda3cc3a",
   "metadata": {},
   "outputs": [
    {
     "data": {
      "application/vnd.jupyter.widget-view+json": {
       "model_id": "3ca9a083d7284f0e895f31625fd3988d",
       "version_major": 2,
       "version_minor": 0
      },
      "text/plain": [
       "WebGuiWidget(layout=Layout(height='500px', width='100%'), value={'gui_settings': {}, 'ngsolve_version': '6.2.2…"
      ]
     },
     "metadata": {},
     "output_type": "display_data"
    },
    {
     "name": "stdout",
     "output_type": "stream",
     "text": [
      "0.0017149238562714603\n"
     ]
    },
    {
     "data": {
      "application/vnd.jupyter.widget-view+json": {
       "model_id": "556dd4c8de4b4ff48763a86a83514d8e",
       "version_major": 2,
       "version_minor": 0
      },
      "text/plain": [
       "WebGuiWidget(layout=Layout(height='500px', width='100%'), value={'gui_settings': {}, 'ngsolve_version': '6.2.2…"
      ]
     },
     "metadata": {},
     "output_type": "display_data"
    },
    {
     "data": {
      "text/plain": [
       "BaseWebGuiScene"
      ]
     },
     "execution_count": 19,
     "metadata": {},
     "output_type": "execute_result"
    }
   ],
   "source": [
    "order =3\n",
    "fes = H1(mesh, order=order, dirichlet=\"bottom|right|left\")\n",
    "u,v = fes.TnT()\n",
    "n = specialcf.normal(2)\n",
    "w = 1 # the wind speed\n",
    "eps = 0.01 # the diffusion coefficient\n",
    "\n",
    "h = specialcf.mesh_size\n",
    "jac = specialcf.JacobianMatrix(mesh.dim)\n",
    "M = CF( [[2/sqrt(3), 1/sqrt(3)], [1/sqrt(3), 2/sqrt(3)]] )\n",
    "expr = jac.trans * M * jac\n",
    "Cinv = 36*order**2\n",
    "ws = CF((w,1))\n",
    "tau =  InnerProduct(ws,expr *ws)\n",
    "gamma_T = 1/sqrt(tau + (Cinv*eps/h**2)**2)\n",
    "\n",
    "def gradx(u):\n",
    "    return grad(u)[0]\n",
    "def dt(u):\n",
    "    return grad(u)[1]\n",
    "\n",
    "uxx = u.Operator(\"hesse\")[0,0]\n",
    "\n",
    "a = BilinearForm(fes, symmetric=False)\n",
    "a += eps*gradx(u)*gradx(v)*dx + (ws*grad(u))*v*dx\n",
    "a += gamma_T * (-eps*uxx + ws * grad(u))*(ws* grad(v)) * dx\n",
    "a.Assemble()\n",
    "\n",
    "f1 = CoefficientFunction(((eps*pi**2-1)*sin(pi*x)+pi*cos(pi*x))*exp(-y))\n",
    "f = LinearForm(fes)\n",
    "f += f1*v*dx\n",
    "f.Assemble()\n",
    "\n",
    "gfu = GridFunction(fes)\n",
    "gfu.Set(sin(pi*x),BND)  # initial condition\n",
    "\n",
    "res = f.vec.CreateVector()\n",
    "res.data = f.vec - a.mat * gfu.vec\n",
    "gfu.vec.data += a.mat.Inverse(fes.FreeDofs()) * res\n",
    "Draw(gfu)\n",
    "\n",
    "uexact = sin(pi*x)*exp(-y)\n",
    "l2error = sqrt(Integrate((gfu-(uexact))**2, mesh))\n",
    "print(l2error)\n",
    "Draw(uexact, mesh, \"exact\")"
   ]
  },
  {
   "cell_type": "markdown",
   "id": "7f5ca759",
   "metadata": {},
   "source": [
    "# Notebook for my own SUPG-formulation"
   ]
  },
  {
   "cell_type": "code",
   "execution_count": 20,
   "id": "6796c163",
   "metadata": {},
   "outputs": [
    {
     "data": {
      "application/vnd.jupyter.widget-view+json": {
       "model_id": "0d3e887ddc0c46378ad40e0154a2e0c1",
       "version_major": 2,
       "version_minor": 0
      },
      "text/plain": [
       "WebGuiWidget(layout=Layout(height='500px', width='100%'), value={'gui_settings': {}, 'ngsolve_version': '6.2.2…"
      ]
     },
     "metadata": {},
     "output_type": "display_data"
    },
    {
     "name": "stdout",
     "output_type": "stream",
     "text": [
      "0.07468539948840842\n"
     ]
    },
    {
     "data": {
      "application/vnd.jupyter.widget-view+json": {
       "model_id": "59ab96c686854fa199d9baf48ee4efe2",
       "version_major": 2,
       "version_minor": 0
      },
      "text/plain": [
       "WebGuiWidget(layout=Layout(height='500px', width='100%'), value={'gui_settings': {}, 'ngsolve_version': '6.2.2…"
      ]
     },
     "metadata": {},
     "output_type": "display_data"
    },
    {
     "data": {
      "text/plain": [
       "BaseWebGuiScene"
      ]
     },
     "execution_count": 20,
     "metadata": {},
     "output_type": "execute_result"
    }
   ],
   "source": [
    "order =3\n",
    "fes = H1(mesh, order=order, dirichlet=\"bottom|right|left\")\n",
    "u,v = fes.TnT()\n",
    "n = specialcf.normal(2)\n",
    "w = 1 # the wind speed\n",
    "eps = 0.01 # the diffusion coefficient\n",
    "\n",
    "gamma_0 = 1\n",
    "Cinv = order**4\n",
    "\n",
    "h = specialcf.mesh_size\n",
    "gamma_T = gamma_0 * h / sqrt(w**2 + Cinv * eps)\n",
    "\n",
    "def gradx(u):\n",
    "    return grad(u)[0]\n",
    "def dt(u):\n",
    "    return grad(u)[1]\n",
    "\n",
    "uxx = u.Operator(\"hesse\")[0,0]\n",
    "\n",
    "a = BilinearForm(fes, symmetric=False)\n",
    "a += eps*gradx(u)*gradx(v)*dx + (ws*grad(u))*v*dx\n",
    "a += gamma_T * (-eps*uxx + ws * grad(u))*(ws* grad(v)) * dx\n",
    "a.Assemble()\n",
    "\n",
    "f1 = CoefficientFunction(((eps*pi**2-1)*sin(pi*x)+pi*cos(pi*x))*exp(-y))\n",
    "f = LinearForm(fes)\n",
    "f += f1*v*dx\n",
    "f.Assemble()\n",
    "\n",
    "gfu = GridFunction(fes)\n",
    "gfu.Set(sin(pi*x),BND)  # initial condition\n",
    "\n",
    "res = f.vec.CreateVector()\n",
    "res.data = f.vec - a.mat * gfu.vec\n",
    "gfu.vec.data += a.mat.Inverse(fes.FreeDofs()) * res\n",
    "Draw(gfu)\n",
    "\n",
    "uexact = sin(pi*x)*exp(-y)\n",
    "l2error = sqrt(Integrate((gfu-(uexact))**2, mesh))\n",
    "print(l2error)\n",
    "Draw(uexact, mesh, \"exact\")"
   ]
  },
  {
   "cell_type": "markdown",
   "id": "349f4688",
   "metadata": {},
   "source": [
    "# Notebook for DG convection-dominated"
   ]
  },
  {
   "cell_type": "code",
   "execution_count": 21,
   "id": "e7ddd8bf",
   "metadata": {},
   "outputs": [
    {
     "data": {
      "application/vnd.jupyter.widget-view+json": {
       "model_id": "7013c194d6904c96bc5898a38bc615c8",
       "version_major": 2,
       "version_minor": 0
      },
      "text/plain": [
       "WebGuiWidget(layout=Layout(height='500px', width='100%'), value={'gui_settings': {}, 'ngsolve_version': '6.2.2…"
      ]
     },
     "metadata": {},
     "output_type": "display_data"
    },
    {
     "name": "stdout",
     "output_type": "stream",
     "text": [
      "0.04613900988051478\n"
     ]
    },
    {
     "data": {
      "application/vnd.jupyter.widget-view+json": {
       "model_id": "c37a78d4c7b7488bb750da0e0fe06d23",
       "version_major": 2,
       "version_minor": 0
      },
      "text/plain": [
       "WebGuiWidget(layout=Layout(height='500px', width='100%'), value={'gui_settings': {}, 'ngsolve_version': '6.2.2…"
      ]
     },
     "metadata": {},
     "output_type": "display_data"
    },
    {
     "data": {
      "text/plain": [
       "BaseWebGuiScene"
      ]
     },
     "execution_count": 21,
     "metadata": {},
     "output_type": "execute_result"
    }
   ],
   "source": [
    "order=3\n",
    "fes = L2(mesh, order=order, dgjumps=True)\n",
    "u,v = fes.TnT()\n",
    "w = 1\n",
    "eps = 0.01\n",
    "lam = 2\n",
    "h = specialcf.mesh_size\n",
    "\n",
    "dS = dx(skeleton=True) \n",
    "jump_u = u-u.Other()\n",
    "jump_v = v-v.Other()\n",
    "n = specialcf.normal(2)\n",
    "avgu = 0.5*n[0] * (grad(u)[0]+grad(u.Other())[0])\n",
    "avgv= 0.5*n[0] * (grad(v)[0]+grad(v.Other())[0])\n",
    "\n",
    "ux = CoefficientFunction((grad(u)[0]))\n",
    "B = CoefficientFunction((w,1))\n",
    "\n",
    "diff = eps*ux*grad(v)[0]*dx # diffusion term\n",
    "diff += -avgu * jump_v *dS #term from the partial integration\n",
    "\n",
    "diff += -(n[0]*grad(u)[0]*v)* ds(skeleton=True) #term from the partial integration\n",
    "diff += lam*order**2/h*u*v * ds(skeleton=True) # penalty term\n",
    "diff += lam*order**2/h*jump_u*jump_v*dS # penalty term\n",
    "\n",
    "uhat = IfPos(B*n, u, u.Other())\n",
    "con = -B*grad(v)*u*dx\n",
    "con += (B*n)*uhat *jump_v*dS\n",
    "diffcon = BilinearForm(diff + con).Assemble()\n",
    "\n",
    "f1 = CoefficientFunction(((eps*pi**2-1)*sin(pi*x)+pi*cos(pi*x))*exp(-y))\n",
    "f = LinearForm(fes)\n",
    "f+= f1*v*dx\n",
    "f += lam*order**2/h*sin(pi*x)*v*ds(skeleton=True, definedon=mesh.Boundaries(\"bottom\"))#weakly impose boundary condition\n",
    "f.Assemble()\n",
    "\n",
    "gfu = GridFunction(fes)\n",
    "gfu.vec.data += diffcon.mat.Inverse(fes.FreeDofs()) * f.vec\n",
    "Draw(gfu)\n",
    "\n",
    "uexact = sin(pi*x)*exp(-y)\n",
    "l2error = sqrt(Integrate((gfu-(uexact))**2, mesh))\n",
    "print(l2error)\n",
    "Draw(uexact, mesh, \"exact\")\n"
   ]
  }
 ],
 "metadata": {
  "kernelspec": {
   "display_name": "Python 3",
   "language": "python",
   "name": "python3"
  },
  "language_info": {
   "codemirror_mode": {
    "name": "ipython",
    "version": 3
   },
   "file_extension": ".py",
   "mimetype": "text/x-python",
   "name": "python",
   "nbconvert_exporter": "python",
   "pygments_lexer": "ipython3",
   "version": "3.8.10"
  }
 },
 "nbformat": 4,
 "nbformat_minor": 5
}
