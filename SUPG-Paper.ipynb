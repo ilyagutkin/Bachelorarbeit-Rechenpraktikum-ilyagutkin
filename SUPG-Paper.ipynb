{
 "cells": [
  {
   "cell_type": "code",
   "execution_count": 19,
   "id": "d03149ae",
   "metadata": {},
   "outputs": [
    {
     "data": {
      "application/vnd.jupyter.widget-view+json": {
       "model_id": "45a67b8b47b3401ebe1dc269654fcc5c",
       "version_major": 2,
       "version_minor": 0
      },
      "text/plain": [
       "WebGuiWidget(layout=Layout(height='500px', width='100%'), value={'gui_settings': {}, 'ngsolve_version': '6.2.2…"
      ]
     },
     "metadata": {},
     "output_type": "display_data"
    },
    {
     "data": {
      "text/plain": [
       "BaseWebGuiScene"
      ]
     },
     "execution_count": 19,
     "metadata": {},
     "output_type": "execute_result"
    }
   ],
   "source": [
    "from ngsolve import *\n",
    "from netgen.geom2d import SplineGeometry\n",
    "from ngsolve.webgui import Draw\n",
    "from netgen.occ import *\n",
    "import numpy as np\n",
    "\n",
    "T = 0.5 # length of the time interval\n",
    "shape = Rectangle(1,T).Face()\n",
    "shape.edges.Min(X).name=\"left\"\n",
    "shape.edges.Max(X).name=\"right\"\n",
    "shape.edges.Min(Y).name=\"bottom\"\n",
    "shape.edges.Max(Y).name=\"top\"\n",
    "mesh = Mesh(OCCGeometry(shape, dim=2).GenerateMesh(maxh=0.1))\n",
    "Draw(mesh)"
   ]
  },
  {
   "cell_type": "code",
   "execution_count": 20,
   "id": "de028ffb",
   "metadata": {},
   "outputs": [
    {
     "name": "stdout",
     "output_type": "stream",
     "text": [
      "1\n",
      "<class 'ngsolve.fem.CoefficientFunction'>\n"
     ]
    },
    {
     "data": {
      "application/vnd.jupyter.widget-view+json": {
       "model_id": "c1bddaffa2484718b148f9f62f020fcb",
       "version_major": 2,
       "version_minor": 0
      },
      "text/plain": [
       "WebGuiWidget(layout=Layout(height='500px', width='100%'), value={'gui_settings': {}, 'ngsolve_version': '6.2.2…"
      ]
     },
     "metadata": {},
     "output_type": "display_data"
    },
    {
     "data": {
      "application/vnd.jupyter.widget-view+json": {
       "model_id": "284b0460cca5402db76f31caa8a9b95c",
       "version_major": 2,
       "version_minor": 0
      },
      "text/plain": [
       "WebGuiWidget(layout=Layout(height='500px', width='100%'), value={'gui_settings': {}, 'ngsolve_version': '6.2.2…"
      ]
     },
     "metadata": {},
     "output_type": "display_data"
    },
    {
     "name": "stdout",
     "output_type": "stream",
     "text": [
      "0.1195779842178611\n"
     ]
    },
    {
     "data": {
      "application/vnd.jupyter.widget-view+json": {
       "model_id": "6e6e9099434a4cd98e7edde0ff925f44",
       "version_major": 2,
       "version_minor": 0
      },
      "text/plain": [
       "WebGuiWidget(layout=Layout(height='500px', width='100%'), value={'gui_settings': {}, 'ngsolve_version': '6.2.2…"
      ]
     },
     "metadata": {},
     "output_type": "display_data"
    },
    {
     "data": {
      "text/plain": [
       "BaseWebGuiScene"
      ]
     },
     "execution_count": 20,
     "metadata": {},
     "output_type": "execute_result"
    }
   ],
   "source": [
    "order = 8\n",
    "fes = H1(mesh, order=order, dirichlet=\"bottom|right|left\")\n",
    "u,v = fes.TnT()\n",
    "n = specialcf.normal(2)\n",
    "w = 1 # the wind speed\n",
    "eps = 1 # small parameter for the diffusion term\n",
    "\n",
    "h = specialcf.mesh_size\n",
    "jac = specialcf.JacobianMatrix(mesh.dim)\n",
    "M = CF( [[2/sqrt(3), 1/sqrt(3)], [1/sqrt(3), 2/sqrt(3)]] )\n",
    "print(M.dim)\n",
    "expr = jac.trans * M * jac\n",
    "print(type(expr))\n",
    "\n",
    "Cinv = 36 # depends on order in general\n",
    "diffusion = 1\n",
    "\n",
    "w0 = GridFunction(L2(mesh,order=0))\n",
    "w0.Set(1)\n",
    "ws = CF((w,1))\n",
    "tau =  InnerProduct(ws,expr *ws)\n",
    "\n",
    "gamma_0 = 1\n",
    "#gamma_T = gamma_0 * h**2 / (w * order**2)\n",
    "#gamma_T = gamma_0 * h / sqrt(w**2 + Cinv * diffusion)\n",
    "gamma_T = 1/sqrt(tau + (Cinv*eps/h**2)**2)\n",
    "\n",
    "def gradx(u):\n",
    "    return grad(u)[0]\n",
    "def dt(u):\n",
    "    return grad(u)[1]\n",
    "\n",
    "uxx = u.Operator(\"hesse\")[0,0]\n",
    "\n",
    "a = BilinearForm(fes, symmetric=False)\n",
    "a += eps*gradx(u)*gradx(v)*dx + (ws*grad(u))*v*dx\n",
    "a += gamma_T * (-eps*uxx + ws * grad(u))*(ws* grad(v)) * dx\n",
    "a.Assemble()\n",
    "\n",
    "f = LinearForm(fes)\n",
    "f += 0 * v * dx\n",
    "f.Assemble()\n",
    "\n",
    "gfu = GridFunction(fes)\n",
    "gfu.Set(exp(x/(2*eps))*sin(pi*x),BND)  # initial condition\n",
    "Draw(gfu)\n",
    "\n",
    "res = f.vec.CreateVector()\n",
    "res.data = f.vec - a.mat * gfu.vec\n",
    "gfu.vec.data += a.mat.Inverse(fes.FreeDofs()) * res\n",
    "Draw(gfu)\n",
    "\n",
    "l2error = sqrt(Integrate((gfu-sin(pi*x)*exp(x/(2*eps))*exp(-y*(eps*pi**3+1/(4*eps))))**2, mesh))\n",
    "print(l2error)\n",
    "Draw(sin(pi*x)*exp(x/(2*eps))*exp(-y*(eps*pi**3+1/(4*eps))), mesh)"
   ]
  }
 ],
 "metadata": {
  "kernelspec": {
   "display_name": "Python 3",
   "language": "python",
   "name": "python3"
  },
  "language_info": {
   "codemirror_mode": {
    "name": "ipython",
    "version": 3
   },
   "file_extension": ".py",
   "mimetype": "text/x-python",
   "name": "python",
   "nbconvert_exporter": "python",
   "pygments_lexer": "ipython3",
   "version": "3.8.10"
  }
 },
 "nbformat": 4,
 "nbformat_minor": 5
}
