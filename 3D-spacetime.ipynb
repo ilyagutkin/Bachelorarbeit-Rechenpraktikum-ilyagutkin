{
 "cells": [
  {
   "cell_type": "markdown",
   "metadata": {},
   "source": [
    "# Notebook for a space-time discretization\n",
    "\n",
    "In this notebook we are treating following problem \n",
    "$$\n",
    "u_t - \\Delta u + \\mathbf{w} \\cdot \\nabla u = f \\quad \\text{in } \\Omega  = [0,1] \\times [0,1] \\times [0,T].\n",
    "$$\n",
    "with the initial/boundary conditions\n",
    "$$\n",
    "u(x,0) = \\sin(\\pi x)\\cdot \\sin(\\pi y), \\quad u(0,t) = u(1,t)=0.\n",
    "$$\n",
    "The weakformulation of the problem in the CG setting is\n",
    "\n",
    "Find a function $u_0 \\in H^1_0(\\Omega)$ , such that  for all  $v \\in H^1_0(\\Omega) $:\n",
    "\n",
    "$$\n",
    "\\int_{\\Omega} (u_t)_0 v \\,dx \\,dt\n",
    "+ \\int_{\\Omega} \\nabla u_0 \\cdot \\nabla v \\,dx \\,dt\n",
    "+ \\int_{\\Omega} (\\mathbf{w} \\cdot \\nabla u_0) v \\,dx \\,dt\n",
    "= \\int_{\\Omega} f v \\,dx \\,dt\n",
    "- \\int_{\\Omega} u_D v \\,dx \\,dt.\n",
    "$$\n",
    "\n",
    "where we used the decomposition of $u = u_D + u_0$\n",
    "\n",
    "For $w = 0$ (the heatequation), we have for the chosen initial/boundary conditions following analytical solution \n",
    "\n",
    "$u(x,t)= \\sin(\\pi x) \\sin(\\pi y) e^{-2t \\pi^2}$"
   ]
  },
  {
   "cell_type": "code",
   "execution_count": 17,
   "metadata": {},
   "outputs": [
    {
     "data": {
      "application/vnd.jupyter.widget-view+json": {
       "model_id": "9ef931bf4c754baba8f736a5de8f9ba7",
       "version_major": 2,
       "version_minor": 0
      },
      "text/plain": [
       "WebGuiWidget(layout=Layout(height='500px', width='100%'), value={'gui_settings': {}, 'ngsolve_version': '6.2.2…"
      ]
     },
     "metadata": {},
     "output_type": "display_data"
    },
    {
     "data": {
      "text/plain": [
       "BaseWebGuiScene"
      ]
     },
     "execution_count": 17,
     "metadata": {},
     "output_type": "execute_result"
    }
   ],
   "source": [
    "from ngsolve import *\n",
    "from netgen.occ import *\n",
    "from ngsolve.webgui import Draw\n",
    "\n",
    "T = 2  # Setze T auf den gewünschten Wert\n",
    "\n",
    "geo = Box(Pnt(0,0,0), Pnt(1,1,T))  # Box von (0,0,0) bis (1,1,T) # Gitter mit max. Elementgröße 0.2\n",
    "geo.faces.Max(Z).name = \"top\"      # Oberseite (z = T)\n",
    "geo.faces.Min(Z).name = \"bottom\"   # Unterseite (z = 0)\n",
    "geo.faces.Min(X).name = \"left\"     # Seite (x = 0)\n",
    "geo.faces.Max(X).name = \"right\"    # Seite (x = 1)\n",
    "geo.faces.Min(Y).name = \"front\"    # Seite (y = 0)\n",
    "geo.faces.Max(Y).name = \"back\"     # Seite (y = 1)\n",
    "geo = OCCGeometry(geo) \n",
    "mesh = Mesh(geo.GenerateMesh(maxh=0.2)) \n",
    "Draw(mesh)\n"
   ]
  },
  {
   "cell_type": "code",
   "execution_count": 18,
   "metadata": {},
   "outputs": [
    {
     "data": {
      "application/vnd.jupyter.widget-view+json": {
       "model_id": "ca1e12cfcf4e42268d0286ff30c48b49",
       "version_major": 2,
       "version_minor": 0
      },
      "text/plain": [
       "WebGuiWidget(layout=Layout(height='500px', width='100%'), value={'gui_settings': {}, 'ngsolve_version': '6.2.2…"
      ]
     },
     "metadata": {},
     "output_type": "display_data"
    },
    {
     "data": {
      "application/vnd.jupyter.widget-view+json": {
       "model_id": "cf45be062d0f4afdb1a1279be13d9b8b",
       "version_major": 2,
       "version_minor": 0
      },
      "text/plain": [
       "WebGuiWidget(layout=Layout(height='500px', width='100%'), value={'gui_settings': {}, 'ngsolve_version': '6.2.2…"
      ]
     },
     "metadata": {},
     "output_type": "display_data"
    },
    {
     "name": "stdout",
     "output_type": "stream",
     "text": [
      "8.12451124764526e-05\n"
     ]
    }
   ],
   "source": [
    "order = 6\n",
    "fes = H1(mesh, order=order, dirichlet=\"bottom|right|left|front|back\")\n",
    "u,v = fes.TnT()\n",
    "n = specialcf.normal(3)\n",
    "w = 0\n",
    "\n",
    "ux = CoefficientFunction((grad(u)[0],grad(u)[1],0))\n",
    "B = CoefficientFunction((w,w,1))\n",
    "\n",
    "a = BilinearForm(fes, symmetric=False)\n",
    "a += B*grad(u)*v*dx + ux* grad(v)*dx\n",
    "a.Assemble()\n",
    "\n",
    "f = LinearForm(fes)\n",
    "f += 0*v*dx\n",
    "f.Assemble()\n",
    "\n",
    "gfu = GridFunction(fes)\n",
    "gfu.Set(sin(pi*y)*sin(pi*x),BND)  # initial condition\n",
    "Draw(gfu)\n",
    "\n",
    "res = f.vec.CreateVector()\n",
    "res.data = f.vec - a.mat * gfu.vec\n",
    "gfu.vec.data += a.mat.Inverse(fes.FreeDofs()) * res\n",
    "Draw(gfu)\n",
    "\n",
    "\n",
    "l2error = sqrt(Integrate((gfu-(sin(pi*x)*sin(pi*y)*exp(-(2*pi**2*z))))**2, mesh))\n",
    "print(l2error)\n"
   ]
  }
 ],
 "metadata": {
  "kernelspec": {
   "display_name": "Python 3",
   "language": "python",
   "name": "python3"
  },
  "language_info": {
   "codemirror_mode": {
    "name": "ipython",
    "version": 3
   },
   "file_extension": ".py",
   "mimetype": "text/x-python",
   "name": "python",
   "nbconvert_exporter": "python",
   "pygments_lexer": "ipython3",
   "version": "3.8.10"
  }
 },
 "nbformat": 4,
 "nbformat_minor": 2
}
