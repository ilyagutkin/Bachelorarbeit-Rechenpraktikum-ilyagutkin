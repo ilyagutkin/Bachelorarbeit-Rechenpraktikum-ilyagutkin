{
 "cells": [
  {
   "cell_type": "code",
   "execution_count": 11,
   "metadata": {},
   "outputs": [
    {
     "data": {
      "application/vnd.jupyter.widget-view+json": {
       "model_id": "b480a82a39ed4256b0ae77069f7619f3",
       "version_major": 2,
       "version_minor": 0
      },
      "text/plain": [
       "WebGuiWidget(layout=Layout(height='500px', width='100%'), value={'gui_settings': {}, 'ngsolve_version': '6.2.2…"
      ]
     },
     "metadata": {},
     "output_type": "display_data"
    },
    {
     "data": {
      "text/plain": [
       "BaseWebGuiScene"
      ]
     },
     "execution_count": 11,
     "metadata": {},
     "output_type": "execute_result"
    }
   ],
   "source": [
    "from ngsolve import *\n",
    "from netgen.occ import *\n",
    "from ngsolve.webgui import Draw\n",
    "\n",
    "T = 2  # Setze T auf den gewünschten Wert\n",
    "\n",
    "geo = Box(Pnt(0,0,0), Pnt(1,1,T))  # Box von (0,0,0) bis (1,1,T) # Gitter mit max. Elementgröße 0.2\n",
    "geo.faces.Max(Z).name = \"top\"      # Oberseite (z = T)\n",
    "geo.faces.Min(Z).name = \"bottom\"   # Unterseite (z = 0)\n",
    "geo.faces.Min(X).name = \"left\"     # Seite (x = 0)\n",
    "geo.faces.Max(X).name = \"right\"    # Seite (x = 1)\n",
    "geo.faces.Min(Y).name = \"front\"    # Seite (y = 0)\n",
    "geo.faces.Max(Y).name = \"back\"     # Seite (y = 1)\n",
    "geo = OCCGeometry(geo) \n",
    "mesh = Mesh(geo.GenerateMesh(maxh=0.2)) \n",
    "Draw(mesh)\n"
   ]
  },
  {
   "cell_type": "code",
   "execution_count": 14,
   "metadata": {},
   "outputs": [
    {
     "data": {
      "application/vnd.jupyter.widget-view+json": {
       "model_id": "f90236948b9c473eaaf8318e0b777530",
       "version_major": 2,
       "version_minor": 0
      },
      "text/plain": [
       "WebGuiWidget(layout=Layout(height='500px', width='100%'), value={'gui_settings': {}, 'ngsolve_version': '6.2.2…"
      ]
     },
     "metadata": {},
     "output_type": "display_data"
    },
    {
     "data": {
      "application/vnd.jupyter.widget-view+json": {
       "model_id": "ec16c6f32d1c4c789cddcc429f4d42ef",
       "version_major": 2,
       "version_minor": 0
      },
      "text/plain": [
       "WebGuiWidget(layout=Layout(height='500px', width='100%'), value={'gui_settings': {}, 'ngsolve_version': '6.2.2…"
      ]
     },
     "metadata": {},
     "output_type": "display_data"
    },
    {
     "name": "stdout",
     "output_type": "stream",
     "text": [
      "8.12451124764526e-05\n"
     ]
    }
   ],
   "source": [
    "order = 6\n",
    "fes = H1(mesh, order=order, dirichlet=\"bottom|right|left|front|back\")\n",
    "u,v = fes.TnT()\n",
    "n = specialcf.normal(3)\n",
    "w = 0\n",
    "\n",
    "ux = CoefficientFunction((grad(u)[0],grad(u)[1],0))\n",
    "B = CoefficientFunction((w,w,1))\n",
    "\n",
    "a = BilinearForm(fes, symmetric=False)\n",
    "a += B*grad(u)*v*dx + ux* grad(v)*dx\n",
    "a.Assemble()\n",
    "\n",
    "f = LinearForm(fes)\n",
    "f += 0*v*dx\n",
    "f.Assemble()\n",
    "\n",
    "gfu = GridFunction(fes)\n",
    "gfu.Set(sin(pi*y)*sin(pi*x),BND)  # initial condition\n",
    "Draw(gfu)\n",
    "\n",
    "res = f.vec.CreateVector()\n",
    "res.data = f.vec - a.mat * gfu.vec\n",
    "gfu.vec.data += a.mat.Inverse(fes.FreeDofs()) * res\n",
    "Draw(gfu)\n",
    "\n",
    "\n",
    "l2error = sqrt(Integrate((gfu-(sin(pi*x)*sin(pi*y)*exp(-(2*pi**2*z))))**2, mesh))\n",
    "print(l2error)\n"
   ]
  }
 ],
 "metadata": {
  "kernelspec": {
   "display_name": "Python 3",
   "language": "python",
   "name": "python3"
  },
  "language_info": {
   "codemirror_mode": {
    "name": "ipython",
    "version": 3
   },
   "file_extension": ".py",
   "mimetype": "text/x-python",
   "name": "python",
   "nbconvert_exporter": "python",
   "pygments_lexer": "ipython3",
   "version": "3.8.10"
  }
 },
 "nbformat": 4,
 "nbformat_minor": 2
}
