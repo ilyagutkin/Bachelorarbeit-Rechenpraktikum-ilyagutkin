{
 "cells": [
  {
   "cell_type": "markdown",
   "metadata": {},
   "source": [
    "# Notebook for a space-time discretization\n",
    "\n",
    "In this notebook we are treating following problem \n",
    "$$\n",
    "u_t - \\Delta u + \\mathbf{w} \\cdot \\nabla u = f \\quad \\text{in } \\Omega  = [0,1] \\times [0,T].\n",
    "$$\n",
    "with the initial/boundary conditions\n",
    "$$\n",
    "u(x,0) = \\sin(\\pi x), \\quad u(0,t) = u(1,t)=0.\n",
    "$$\n",
    "The idea of the method is to replace the testfunction v with the elementwisefunction  $v +\\gamma_t \\cdot w \\cdot v_x$\n",
    "\n",
    "The weakformulation of the problem in the SUPG setting is\n",
    "\n",
    "Find a function $u \\in H^1_0(\\Omega)$ , such that  for all  $v \\in H^1_0(\\Omega) $:\n",
    "\n",
    "$$\n",
    "\\int_{\\Omega} (u_t) v \\,dx \\,dt\n",
    "+ \\int_{\\Omega} \\nabla u \\cdot \\nabla v \\,dx \\,dt\n",
    "+ \\int_{\\Omega} (\\mathbf{w} \\cdot \\nabla u) v \\,dx \\,dt\n",
    "+ \\sum_{T \\in T_h} \\int_{T} \\gamma_T \\cdot (u_t- u_{xx} + \\mathbf{w} \\cdot \\nabla u -f) v_x \\cdot\\mathbf{w} \\,dx \\,dt\n",
    "= \\int_{\\Omega} f v \\,dx \\,dt\n",
    "\n",
    "$$\n",
    "\n",
    "For $w = 0$ (the heatequation), we have for the chosen initial/boundary conditions following analytical solution \n",
    "\n",
    "$u(x,t)= \\sin(\\pi x) e^{-t \\pi^2}$"
   ]
  },
  {
   "cell_type": "code",
   "execution_count": 28,
   "metadata": {},
   "outputs": [
    {
     "data": {
      "application/vnd.jupyter.widget-view+json": {
       "model_id": "3a342b5bc516497b8aa22beec06d9de1",
       "version_major": 2,
       "version_minor": 0
      },
      "text/plain": [
       "WebGuiWidget(layout=Layout(height='500px', width='100%'), value={'gui_settings': {}, 'ngsolve_version': '6.2.2…"
      ]
     },
     "metadata": {},
     "output_type": "display_data"
    },
    {
     "data": {
      "text/plain": [
       "BaseWebGuiScene"
      ]
     },
     "execution_count": 28,
     "metadata": {},
     "output_type": "execute_result"
    }
   ],
   "source": [
    "from ngsolve import *\n",
    "from netgen.geom2d import SplineGeometry\n",
    "from ngsolve.webgui import Draw\n",
    "from netgen.occ import *\n",
    "\n",
    "T = 2 # length of the time interval\n",
    "shape = Rectangle(1,T).Face()\n",
    "shape.edges.Min(X).name=\"left\"\n",
    "shape.edges.Max(X).name=\"right\"\n",
    "shape.edges.Min(Y).name=\"bottom\"\n",
    "shape.edges.Max(Y).name=\"top\"\n",
    "mesh = Mesh(OCCGeometry(shape, dim=2).GenerateMesh(maxh=0.05))\n",
    "Draw(mesh)"
   ]
  },
  {
   "cell_type": "code",
   "execution_count": null,
   "metadata": {},
   "outputs": [
    {
     "ename": "NgException",
     "evalue": "SymblicBFI needs scalar-valued CoefficientFunction",
     "output_type": "error",
     "traceback": [
      "\u001b[0;31m---------------------------------------------------------------------------\u001b[0m",
      "\u001b[0;31mNgException\u001b[0m                               Traceback (most recent call last)",
      "Cell \u001b[0;32mIn[29], line 18\u001b[0m\n\u001b[1;32m     16\u001b[0m a \u001b[38;5;241m=\u001b[39m BilinearForm(fes, symmetric\u001b[38;5;241m=\u001b[39m\u001b[38;5;28;01mFalse\u001b[39;00m)\n\u001b[1;32m     17\u001b[0m \u001b[38;5;66;03m#a += ux*grad(v)*dx + (B*grad(u))*v*dx\u001b[39;00m\n\u001b[0;32m---> 18\u001b[0m a \u001b[38;5;241m+\u001b[39m\u001b[38;5;241m=\u001b[39m gamma_T \u001b[38;5;241m*\u001b[39m (\u001b[38;5;241m-\u001b[39muxx \u001b[38;5;241m+\u001b[39m w \u001b[38;5;241m*\u001b[39m ux \u001b[38;5;241m+\u001b[39m ut)\u001b[38;5;241m*\u001b[39mv\u001b[38;5;241m*\u001b[39mdx\u001b[38;5;66;03m#(w * grad(v)) * dx\u001b[39;00m\n\u001b[1;32m     19\u001b[0m a\u001b[38;5;241m.\u001b[39mAssemble()\n\u001b[1;32m     21\u001b[0m f \u001b[38;5;241m=\u001b[39m LinearForm(fes)\n",
      "\u001b[0;31mNgException\u001b[0m: SymblicBFI needs scalar-valued CoefficientFunction"
     ]
    }
   ],
   "source": [
    "order = 6\n",
    "fes = H1(mesh, order=order, dirichlet=\"bottom|right|left\")\n",
    "u,v = fes.TnT()\n",
    "n = specialcf.normal(2)\n",
    "w = 10 # the wind speed\n",
    "h = specialcf.mesh_size\n",
    "\n",
    "gamma_0 = 1\n",
    "gamma_T = gamma_0 * h / (w * order**2)\n",
    "\n",
    "ux = CoefficientFunction((grad(u)[0],0))\n",
    "ut = CoefficientFunction((0,grad(u)[1]))\n",
    "B = CoefficientFunction((w,1))\n",
    "uxx = CoefficientFunction((u.Operator(\"hesse\")[0,0],0))\n",
    "\n",
    "a = BilinearForm(fes, symmetric=False)\n",
    "a += ux*grad(v)*dx + (B*grad(u))*v*dx\n",
    "a += gamma_T * (-uxx + w * ux + ut)*(w * grad(v)) * dx\n",
    "a.Assemble()\n",
    "\n",
    "f = LinearForm(fes)\n",
    "f += 0*v*dx\n",
    "f.Assemble()\n",
    "\n",
    "gfu = GridFunction(fes)\n",
    "gfu.Set(exp(w*x/2)*sin(pi*x),BND)  # initial condition\n",
    "Draw(gfu)\n",
    "\n",
    "res = f.vec.CreateVector()\n",
    "res.data = f.vec - a.mat * gfu.vec\n",
    "gfu.vec.data += a.mat.Inverse(fes.FreeDofs()) * res\n",
    "Draw(gfu)\n",
    "\n",
    "l2error = sqrt(Integrate((gfu-(sin(pi*x)*exp(-(pi**2+w**2/4)*y)*exp(w*x/2)))**2, mesh))\n",
    "print(l2error)"
   ]
  }
 ],
 "metadata": {
  "kernelspec": {
   "display_name": "Python 3",
   "language": "python",
   "name": "python3"
  },
  "language_info": {
   "codemirror_mode": {
    "name": "ipython",
    "version": 3
   },
   "file_extension": ".py",
   "mimetype": "text/x-python",
   "name": "python",
   "nbconvert_exporter": "python",
   "pygments_lexer": "ipython3",
   "version": "3.8.10"
  }
 },
 "nbformat": 4,
 "nbformat_minor": 2
}
