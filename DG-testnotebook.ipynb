{
 "cells": [
  {
   "cell_type": "markdown",
   "metadata": {},
   "source": [
    "# Notebook for a space-time discretization\n",
    "\n",
    "In this notebook we are treating following problem \n",
    "$$\n",
    "u_t - \\Delta u + \\mathbf{w} \\cdot \\nabla u = f \\quad \\text{in } \\Omega  = [0,1] \\times [0,T].\n",
    "$$\n",
    "with the initial/boundary conditions\n",
    "$$\n",
    "u(x,0) = \\sin(\\pi x), \\quad u(0,t) = u(1,t)=0.\n",
    "$$\n",
    "The weakformulation of the problem in the DG setting is\n",
    "\n",
    "Find a function $u_0 \\in H^1_0(\\Omega)$ , such that  for all  $v \\in H^1_0(\\Omega) $:\n",
    "\n",
    "$$\n",
    "\\int_{\\Omega} (u_t)_0 v \\,dx \\,dt\n",
    "+ \\int_{\\Omega} \\nabla u_0 \\cdot \\nabla v \\,dx \\,dt\n",
    "+ \\int_{\\Omega} (\\mathbf{w} \\cdot \\nabla u_0) v \\,dx \\,dt\n",
    "= \\int_{\\Omega} f v \\,dx \\,dt\n",
    "- \\int_{\\Omega} u_D v \\,dx \\,dt.\n",
    "$$\n",
    "\n",
    "where we used the decomposition of $u = u_D + u_0$\n",
    "\n",
    "For $w = 0$ (the heatequation), we have for the chosen initial/boundary conditions following analytical solution \n",
    "\n",
    "$u(x,t)= \\sin(\\pi x) e^{-t \\pi^2}$"
   ]
  },
  {
   "cell_type": "code",
   "execution_count": null,
   "metadata": {},
   "outputs": [],
   "source": [
    "from ngsolve import *\n",
    "from netgen.geom2d import SplineGeometry\n",
    "from ngsolve.webgui import Draw\n",
    "from netgen.occ import *\n",
    "\n",
    "T = 0.5 # length of the time interval\n",
    "shape = Rectangle(1,T).Face()\n",
    "shape.edges.Min(X).name=\"left\"\n",
    "shape.edges.Max(X).name=\"right\"\n",
    "shape.edges.Min(Y).name=\"bottom\"\n",
    "shape.edges.Max(Y).name=\"top\"\n",
    "mesh = Mesh(OCCGeometry(shape, dim=2).GenerateMesh(maxh=0.05))\n",
    "Draw(mesh)"
   ]
  },
  {
   "cell_type": "code",
   "execution_count": null,
   "metadata": {},
   "outputs": [],
   "source": [
    "order=6\n",
    "fes = L2(mesh, order=order, dgjumps=True)\n",
    "u,v = fes.TnT()\n",
    "w = 5\n",
    "lam = 2\n",
    "h = specialcf.mesh_size\n",
    "\n",
    "dS = dx(skeleton=True) \n",
    "jump_u = u-u.Other()\n",
    "jump_v = v-v.Other()\n",
    "n = specialcf.normal(2)\n",
    "avgu = 0.5*n[0] * (grad(u)[0]+grad(u.Other())[0])\n",
    "avgv= 0.5*n[0] * (grad(v)[0]+grad(v.Other())[0])\n",
    "\n",
    "Au = CoefficientFunction((grad(u)[0],0))\n",
    "B = CoefficientFunction((w,1))\n",
    "\n",
    "#diff = BilinearForm(fes, symmetric=False)\n",
    "diff = Au*grad(v)*dx # diffusion term\n",
    "diff += -avgu * jump_v *dS #term from the partial integration\n",
    "diff += (B*grad(u))*v*dx # time derivative term\n",
    "#a += lam*order**2/h*u*v*ds(skeleton=True)#weakly impose u=sin(pi*x) on the bottom boundary\n",
    "diff += -(n[0]*grad(u)[0]*v)* ds(skeleton=True) #term from the partial integration\n",
    "diff += lam*order**2/h*u*v * ds(skeleton=True) # penalty term\n",
    "diff += lam*order**2/h*jump_u*jump_v*dS # penalty term\n",
    "a = BilinearForm(diff).Assemble()\n",
    "\n",
    "f = LinearForm(fes)\n",
    "f += lam*order**2/h*exp(w*x/2)*sin(pi*x)*v*ds(skeleton=True, definedon=mesh.Boundaries(\"bottom\"))#weakly impose boundary condition\n",
    "f.Assemble()\n",
    "\n",
    "gfu = GridFunction(fes)\n",
    "\n",
    "gfu.vec.data += a.mat.Inverse(fes.FreeDofs()) * f.vec\n",
    "Draw(gfu)\n",
    "\n",
    "l2error = sqrt(Integrate((gfu-(sin(pi*x)*exp(-(pi**2+w**2/4)*y)*exp(w*x/2)))**2, mesh))\n",
    "#l2error = sqrt(Integrate((gfu-(sin(pi*x)*exp(-pi**2*y)))**2, mesh))\n",
    "print(l2error)\n"
   ]
  },
  {
   "cell_type": "code",
   "execution_count": null,
   "metadata": {},
   "outputs": [],
   "source": [
    "diff += - B * grad(u)*v*dx\n",
    "uhat = IfPos(B*n, u, u.Other())\n",
    "con = -B*grad(v)*u*dx\n",
    "con += (B*n)*uhat *jump_v*dS\n",
    "diffcon =BilinearForm(diff + con).Assemble()\n",
    "\n",
    "gfu1 = GridFunction(fes)\n",
    "gfu1.vec.data += diffcon.mat.Inverse(fes.FreeDofs()) * f.vec\n",
    "Draw(gfu1)\n",
    "\n",
    "l2error = sqrt(Integrate((gfu-(sin(pi*x)*exp(-(pi**2+w**2/4)*y)*exp(w*x/2)))**2, mesh))\n",
    "\n",
    "#l2error = sqrt(Integrate((gfu1-(sin(pi*x)*exp(-pi**2*y)))**2, mesh))\n",
    "print(l2error)\n"
   ]
  },
  {
   "cell_type": "code",
   "execution_count": null,
   "metadata": {},
   "outputs": [],
   "source": []
  }
 ],
 "metadata": {
  "kernelspec": {
   "display_name": "Python 3",
   "language": "python",
   "name": "python3"
  },
  "language_info": {
   "codemirror_mode": {
    "name": "ipython",
    "version": 3
   },
   "file_extension": ".py",
   "mimetype": "text/x-python",
   "name": "python",
   "nbconvert_exporter": "python",
   "pygments_lexer": "ipython3",
   "version": "3.13.1"
  }
 },
 "nbformat": 4,
 "nbformat_minor": 2
}
