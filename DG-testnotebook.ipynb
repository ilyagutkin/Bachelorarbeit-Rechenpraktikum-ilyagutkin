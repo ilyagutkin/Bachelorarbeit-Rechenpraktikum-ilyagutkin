{
 "cells": [
  {
   "cell_type": "markdown",
   "metadata": {},
   "source": [
    "# Notebook for a space-time discretization\n",
    "\n",
    "In this notebook we are treading following problem \n",
    "$$\n",
    "u_t - \\Delta u + \\mathbf{w} \\cdot \\nabla u = f \\quad \\text{in } \\Omega  = [0,1] \\times [0,T].\n",
    "$$\n",
    "with the initial/boundary conditions\n",
    "$$\n",
    "u(x,0) = \\sin(\\pi x), \\quad u(0,t) = u(1,t)=0.\n",
    "$$\n",
    "The weakformulation of the problem in the DG setting is\n",
    "\n",
    "Find a function $u_0 \\in H^1_0(\\Omega)$ , such that  for all  $v \\in H^1_0(\\Omega) $:\n",
    "\n",
    "$$\n",
    "\\int_{\\Omega} (u_t)_0 v \\,dx \\,dt\n",
    "+ \\int_{\\Omega} \\nabla u_0 \\cdot \\nabla v \\,dx \\,dt\n",
    "+ \\int_{\\Omega} (\\mathbf{w} \\cdot \\nabla u_0) v \\,dx \\,dt\n",
    "= \\int_{\\Omega} f v \\,dx \\,dt\n",
    "- \\int_{\\Omega} u_D v \\,dx \\,dt.\n",
    "$$\n",
    "\n",
    "where we used the decomposition of $u = u_D + u_0$\n",
    "\n",
    "For $w = 0$ (the heatequation), we have for the chosen initial/boundary conditions following analytical solution \n",
    "\n",
    "$u(x,t)= \\sin(\\pi x) e^{-t \\pi^2}$"
   ]
  },
  {
   "cell_type": "code",
   "execution_count": 1,
   "metadata": {},
   "outputs": [
    {
     "data": {
      "application/vnd.jupyter.widget-view+json": {
       "model_id": "2733d58ac1ad412a868b0e1fa3defc37",
       "version_major": 2,
       "version_minor": 0
      },
      "text/plain": [
       "WebGuiWidget(layout=Layout(height='500px', width='100%'), value={'gui_settings': {}, 'ngsolve_version': '6.2.2…"
      ]
     },
     "metadata": {},
     "output_type": "display_data"
    },
    {
     "data": {
      "text/plain": [
       "BaseWebGuiScene"
      ]
     },
     "execution_count": 1,
     "metadata": {},
     "output_type": "execute_result"
    }
   ],
   "source": [
    "from ngsolve import *\n",
    "from netgen.geom2d import SplineGeometry\n",
    "from ngsolve.webgui import Draw\n",
    "from netgen.occ import *\n",
    "\n",
    "T = 2 # length of the time interval\n",
    "shape = Rectangle(1,T).Face()\n",
    "shape.edges.Min(X).name=\"left\"\n",
    "shape.edges.Max(X).name=\"right\"\n",
    "shape.edges.Min(Y).name=\"bottom\"\n",
    "shape.edges.Max(Y).name=\"top\"\n",
    "mesh = Mesh(OCCGeometry(shape, dim=2).GenerateMesh(maxh=0.05))\n",
    "Draw(mesh)"
   ]
  },
  {
   "cell_type": "code",
   "execution_count": null,
   "metadata": {},
   "outputs": [],
   "source": [
    "order=4\n",
    "fes = L2(mesh, order=order, dgjumps=True)\n",
    "u,v = fes.TnT()\n",
    "\n",
    "dS = dx(skeleton=True) \n",
    "jump_u = u-u.Other()\n",
    "jump_v = v-v.Other()\n",
    "n = specialcf.normal(2)\n",
    "avgu = 0.5*n * (grad(u)+grad(u.Other()))\n",
    "avgv= 0.5*n * (grad(v)+grad(v.Other()))\n",
    "\n",
    "Au = CoefficientFunction((grad(u)[0],0))\n",
    "a = BilinearForm(fes, symmetric=False)\n",
    "a += Au*grad(v)*dx \n",
    "a += Au* avgu* n*v*dS"
   ]
  }
 ],
 "metadata": {
  "kernelspec": {
   "display_name": "Python 3",
   "language": "python",
   "name": "python3"
  },
  "language_info": {
   "codemirror_mode": {
    "name": "ipython",
    "version": 3
   },
   "file_extension": ".py",
   "mimetype": "text/x-python",
   "name": "python",
   "nbconvert_exporter": "python",
   "pygments_lexer": "ipython3",
   "version": "3.8.10"
  }
 },
 "nbformat": 4,
 "nbformat_minor": 2
}
