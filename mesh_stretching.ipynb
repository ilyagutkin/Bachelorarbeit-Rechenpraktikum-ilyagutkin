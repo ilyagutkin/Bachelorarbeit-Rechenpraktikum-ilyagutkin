{
 "cells": [
  {
   "cell_type": "markdown",
   "metadata": {},
   "source": [
    "# Notebook for a space-time discretization\n",
    "\n",
    "In this notebook we are treating following problem \n",
    "$$\n",
    "u_t - \\Delta u + \\mathbf{w} \\cdot \\nabla u = f \\quad \\text{in } \\Omega  = [0,1] \\times [0,T].\n",
    "$$\n",
    "with the initial/boundary conditions\n",
    "$$\n",
    "u(x,0) = \\sin(\\pi x), \\quad u(0,t) = u(1,t)=0.\n",
    "$$\n",
    "The weakformulation of the problem in the CG setting is\n",
    "\n",
    "Find a function $u_0 \\in H^1_0(\\Omega)$ , such that  for all  $v \\in H^1_0(\\Omega) $:\n",
    "\n",
    "$$\n",
    "\\int_{\\Omega} (u_t)_0 v \\,dx \\,dt\n",
    "+ \\int_{\\Omega} \\nabla u_0 \\cdot \\nabla v \\,dx \\,dt\n",
    "+ \\int_{\\Omega} (\\mathbf{w} \\cdot \\nabla u_0) v \\,dx \\,dt\n",
    "= \\int_{\\Omega} f v \\,dx \\,dt\n",
    "- \\int_{\\Omega} u_D v \\,dx \\,dt.\n",
    "$$\n",
    "\n",
    "where we used the decomposition of $u = u_D + u_0$\n",
    "\n",
    "For $w = 0$ (the heatequation), we have for the chosen initial/boundary conditions following analytical solution \n",
    "\n",
    "$u(x,t)= \\sin(\\pi x) e^{-t \\pi^2}$"
   ]
  },
  {
   "cell_type": "code",
   "execution_count": 3,
   "metadata": {},
   "outputs": [
    {
     "data": {
      "application/vnd.jupyter.widget-view+json": {
       "model_id": "cc66ca2c66ae44f3b01de43292fc1661",
       "version_major": 2,
       "version_minor": 0
      },
      "text/plain": [
       "WebGuiWidget(layout=Layout(height='500px', width='100%'), value={'gui_settings': {}, 'ngsolve_version': '6.2.2…"
      ]
     },
     "metadata": {},
     "output_type": "display_data"
    },
    {
     "name": "stdout",
     "output_type": "stream",
     "text": [
      "(0.0, 0.0)\n",
      "(1.0, 0.0)\n",
      "(1.0, 0.7272727272727272)\n",
      "(1.0, 0.7272727272727272)\n",
      "(1.0, 1.4545454545454544)\n",
      "(-1.3359783263425669e-15, 0.7272727272727284)\n",
      "(1.0000000000000002, 2.1818181818181817)\n",
      "(-1.0687826610740532e-15, 2.1818181818181843)\n",
      "(-1.20238049370831e-15, 1.4545454545454568)\n",
      "(1.0000000000000002, 2.1818181818181817)\n",
      "(1.0000000000000002, 2.909090909090909)\n",
      "(-1.0687826610740532e-15, 2.1818181818181843)\n",
      "(1.0000000000000002, 3.636363636363636)\n",
      "(-8.015869958055402e-16, 3.6363636363636367)\n",
      "(-9.351848284397967e-16, 2.909090909090911)\n",
      "(1.0000000000000002, 3.636363636363636)\n",
      "(1.0000000000000002, 4.363636363636363)\n",
      "(-8.015869958055402e-16, 3.6363636363636367)\n",
      "(1.0000000000000002, 5.090909090909089)\n",
      "(-5.343913305370269e-16, 5.090909090909091)\n",
      "(-6.679891631712834e-16, 4.363636363636364)\n",
      "(1.0000000000000002, 5.090909090909089)\n",
      "(1.0000000000000002, 5.818181818181816)\n",
      "(-5.343913305370269e-16, 5.090909090909091)\n",
      "(1.0000000000000004, 6.545454545454543)\n",
      "(-2.6719566526851344e-16, 6.545454545454545)\n",
      "(-4.0079349790277015e-16, 5.818181818181818)\n",
      "(1.0000000000000004, 6.545454545454543)\n",
      "(1.0000000000000004, 7.272727272727272)\n",
      "(-2.6719566526851344e-16, 6.545454545454545)\n",
      "(1.0000000000000004, 8.0)\n",
      "(0.0, 8.0)\n",
      "(-1.3359783263425672e-16, 7.2727272727272725)\n",
      "(0.0, 0.0)\n",
      "(1.0, 0.7272727272727272)\n",
      "(-1.3359783263425669e-15, 0.7272727272727284)\n",
      "(1.0, 1.4545454545454544)\n",
      "(-1.20238049370831e-15, 1.4545454545454568)\n",
      "(-1.3359783263425669e-15, 0.7272727272727284)\n",
      "(1.0, 1.4545454545454544)\n",
      "(1.0000000000000002, 2.1818181818181817)\n",
      "(-1.20238049370831e-15, 1.4545454545454568)\n",
      "(1.0000000000000002, 2.909090909090909)\n",
      "(-9.351848284397967e-16, 2.909090909090911)\n",
      "(-1.0687826610740532e-15, 2.1818181818181843)\n",
      "(1.0000000000000002, 4.363636363636363)\n",
      "(1.0000000000000002, 5.090909090909089)\n",
      "(-6.679891631712834e-16, 4.363636363636364)\n",
      "(1.0000000000000002, 4.363636363636363)\n",
      "(-6.679891631712834e-16, 4.363636363636364)\n",
      "(-8.015869958055402e-16, 3.6363636363636367)\n",
      "(1.0000000000000002, 5.818181818181816)\n",
      "(1.0000000000000004, 6.545454545454543)\n",
      "(-4.0079349790277015e-16, 5.818181818181818)\n",
      "(1.0000000000000002, 5.818181818181816)\n",
      "(-4.0079349790277015e-16, 5.818181818181818)\n",
      "(-5.343913305370269e-16, 5.090909090909091)\n",
      "(1.0000000000000004, 8.0)\n",
      "(-1.3359783263425672e-16, 7.2727272727272725)\n",
      "(1.0000000000000004, 7.272727272727272)\n",
      "(1.0000000000000004, 7.272727272727272)\n",
      "(-1.3359783263425672e-16, 7.2727272727272725)\n",
      "(-2.6719566526851344e-16, 6.545454545454545)\n",
      "(1.0000000000000002, 2.909090909090909)\n",
      "(1.0000000000000002, 3.636363636363636)\n",
      "(-9.351848284397967e-16, 2.909090909090911)\n"
     ]
    }
   ],
   "source": [
    "from ngsolve import *\n",
    "from netgen.geom2d import SplineGeometry\n",
    "from ngsolve.webgui import Draw\n",
    "from netgen.occ import *\n",
    "\n",
    "p = -1\n",
    "T =8 # length of the time interval\n",
    "shape = Rectangle(1,T).Face()\n",
    "shape.edges.Min(X).name=\"left\"\n",
    "shape.edges.Max(X).name=\"right\"\n",
    "shape.edges.Min(Y).name=\"bottom\"\n",
    "shape.edges.Max(Y).name=\"top\"\n",
    "mesh = Mesh(OCCGeometry(shape, dim=2).GenerateMesh(maxh=0.75))\n",
    "Draw(mesh)\n",
    "\n",
    "for el in mesh.Elements():\n",
    "        for vi in el.vertices:\n",
    "            # Hole den Punkt des Vertex\n",
    "            print(mesh[vi].point)\n",
    "            # Wende die Deformation an und speichere den neuen Punkt"
   ]
  },
  {
   "cell_type": "code",
   "execution_count": 2,
   "metadata": {},
   "outputs": [
    {
     "data": {
      "application/vnd.jupyter.widget-view+json": {
       "model_id": "c5e22af4fe334295a2826f596943fa38",
       "version_major": 2,
       "version_minor": 0
      },
      "text/plain": [
       "WebGuiWidget(layout=Layout(height='500px', width='100%'), value={'gui_settings': {}, 'ngsolve_version': '6.2.2…"
      ]
     },
     "metadata": {},
     "output_type": "display_data"
    },
    {
     "data": {
      "text/plain": [
       "BaseWebGuiScene"
      ]
     },
     "execution_count": 2,
     "metadata": {},
     "output_type": "execute_result"
    }
   ],
   "source": [
    "deformation = GridFunction(H1(mesh,order=1,dim=mesh.dim))\n",
    "deformation.Set(CF((x,y/8))-CF((x,y)))\n",
    "#Draw(deformation,mesh)\n",
    "mesh.SetDeformation(deformation)\n",
    "Draw(mesh)\n",
    "#for el in mesh.Elements():\n",
    " #       for vi in el.vertices:\n",
    "            #x = tuple(deformation(mesh[vi].point[0],mesh[vi].point[1]))\n",
    "            #print(tuple((x[0]+mesh[vi].point[0],x[1]+mesh[vi].point[1])))\n"
   ]
  },
  {
   "cell_type": "code",
   "execution_count": 3,
   "metadata": {},
   "outputs": [
    {
     "data": {
      "application/vnd.jupyter.widget-view+json": {
       "model_id": "a6a5f5bd5e47493c8dc9d9e72218d4c3",
       "version_major": 2,
       "version_minor": 0
      },
      "text/plain": [
       "WebGuiWidget(layout=Layout(height='500px', width='100%'), value={'gui_settings': {}, 'ngsolve_version': '6.2.2…"
      ]
     },
     "metadata": {},
     "output_type": "display_data"
    },
    {
     "data": {
      "text/plain": [
       "BaseWebGuiScene"
      ]
     },
     "execution_count": 3,
     "metadata": {},
     "output_type": "execute_result"
    }
   ],
   "source": [
    "Draw(y,mesh,deformation=deformation)"
   ]
  },
  {
   "cell_type": "code",
   "execution_count": 4,
   "metadata": {},
   "outputs": [],
   "source": [
    "shape = Rectangle(1,1).Face()\n",
    "shape.edges.Min(X).name=\"left\"\n",
    "shape.edges.Max(X).name=\"right\"\n",
    "shape.edges.Min(Y).name=\"bottom\"\n",
    "shape.edges.Max(Y).name=\"top\"\n",
    "mesh = Mesh(OCCGeometry(shape, dim=2).GenerateMesh(maxh=0.1))"
   ]
  },
  {
   "cell_type": "code",
   "execution_count": 1,
   "metadata": {},
   "outputs": [],
   "source": [
    "def abs(u):\n",
    "        return IfPos(u[1],u,-u)\n",
    "\n",
    "def addtuple(t1,t2):\n",
    "        return tuple(a + b for a, b in zip(t1, t2))\n",
    "\n",
    "def maximumy(mesh,deformation):\n",
    "        # Iteriere über alle Dreiecke im Mesh\n",
    "        max_y_difference = 0\n",
    "        max_x_difference = 0\n",
    "        for el in mesh.Elements():\n",
    "                vertices = [addtuple(tuple(deformation(mesh[vi].point[0],mesh[vi].point[1])),tuple(mesh[vi].point)) for vi in el.vertices]  # Eckpunkte des Dreiecks\n",
    "                y_coords = [p[1] for p in vertices]  # Nur die y-Koordinaten extrahieren\n",
    "                x_coords = [p[0] for p in vertices]\n",
    "                \n",
    "                y_difference = max(y_coords) - min(y_coords)  # Höchster - niedrigster Wert\n",
    "                max_y_difference = max(max_y_difference, y_difference)  # Maximale Differenz speichern\n",
    "                x_difference = max(x_coords) - min(x_coords)\n",
    "                max_x_difference = max(max_x_difference, x_difference)\n",
    "\n",
    "        return max_y_difference,max_x_difference\n",
    "\n",
    "\n",
    "\n",
    "\n",
    "\n"
   ]
  },
  {
   "cell_type": "code",
   "execution_count": 7,
   "metadata": {},
   "outputs": [
    {
     "name": "stdout",
     "output_type": "stream",
     "text": [
      "[0.28625704151917286, 0.13437486425793072, 0.06793728230500644, 0.03352154055824248, 0.01668083513329808] [0.24793609870779704, 0.12580978412836177, 0.06473510995895201, 0.03182366368775117, 0.016408018386266165]\n",
      "+---------------------------------------------------------------------------------------------+---------------------------------------------------------------------------------------------+--------------------------------------------------------------------------------------------+----------------------------------------------------------------------------------------------+----------------------------------------------------------------------------------------------+\n",
      "|                                                                                             | p = -3                                                                                      | p = -2                                                                                     | p = -1                                                                                       | p = 0                                                                                        |\n",
      "+=============================================================================================+=============================================================================================+============================================================================================+==============================================================================================+==============================================================================================+\n",
      "| (<ngsolve.comp.Mesh object at 0x7f4d57d9d8b0>, (0.2708958572507719, 0.24897515516127333))   | (<ngsolve.comp.Mesh object at 0x7f4d57d330e0>, (0.28921536462462094, 0.1252865218167129))   | (<ngsolve.comp.Mesh object at 0x7f4d5d16c450>, (0.28953345535536024, 0.06267316607095962)) | (<ngsolve.comp.Mesh object at 0x7f4d57d9db30>, (0.29082082710441093, 0.03133159076637537))   | (<ngsolve.comp.Mesh object at 0x7f4d57d6a900>, (0.2908197032607003, 0.015666541113469133))   |\n",
      "+---------------------------------------------------------------------------------------------+---------------------------------------------------------------------------------------------+--------------------------------------------------------------------------------------------+----------------------------------------------------------------------------------------------+----------------------------------------------------------------------------------------------+\n",
      "| (<ngsolve.comp.Mesh object at 0x7f4d57d6aae0>, (0.132574896845016, 0.2449944190957797))     | (<ngsolve.comp.Mesh object at 0x7f4d57d6ab30>, (0.133442718643631, 0.12573605087731335))    | (<ngsolve.comp.Mesh object at 0x7f4d57d6ab80>, (0.1354230001470541, 0.06513644947450592))  | (<ngsolve.comp.Mesh object at 0x7f4d57d6abd0>, (0.13593238672593466, 0.031429785104467645))  | (<ngsolve.comp.Mesh object at 0x7f4d57d6ac20>, (0.13450131892801775, 0.016569263571351578))  |\n",
      "+---------------------------------------------------------------------------------------------+---------------------------------------------------------------------------------------------+--------------------------------------------------------------------------------------------+----------------------------------------------------------------------------------------------+----------------------------------------------------------------------------------------------+\n",
      "| (<ngsolve.comp.Mesh object at 0x7f4d57d6ac70>, (0.06639409470961799, 0.24843876939148657))  | (<ngsolve.comp.Mesh object at 0x7f4d57d6acc0>, (0.07142926912090275, 0.12607740216056185))  | (<ngsolve.comp.Mesh object at 0x7f4d57d6ad10>, (0.06776495698291729, 0.07032469788859308)) | (<ngsolve.comp.Mesh object at 0x7f4d57d6ad60>, (0.0669123063335938, 0.03158519194785503))    | (<ngsolve.comp.Mesh object at 0x7f4d57d6adb0>, (0.06718578437800038, 0.01708064864601977))   |\n",
      "+---------------------------------------------------------------------------------------------+---------------------------------------------------------------------------------------------+--------------------------------------------------------------------------------------------+----------------------------------------------------------------------------------------------+----------------------------------------------------------------------------------------------+\n",
      "| (<ngsolve.comp.Mesh object at 0x7f4d57d6ae00>, (0.033198160956950384, 0.24843962702117628)) | (<ngsolve.comp.Mesh object at 0x7f4d57d6ae50>, (0.03389233551449866, 0.1260611898611128))   | (<ngsolve.comp.Mesh object at 0x7f4d57d6aea0>, (0.03344946700529905, 0.06282586055089781)) | (<ngsolve.comp.Mesh object at 0x7f4d57d6aef0>, (0.03354547903226934, 0.033134064913949435))  | (<ngsolve.comp.Mesh object at 0x7f4d57d6af40>, (0.03352226028219496, 0.015793915458005875))  |\n",
      "+---------------------------------------------------------------------------------------------+---------------------------------------------------------------------------------------------+--------------------------------------------------------------------------------------------+----------------------------------------------------------------------------------------------+----------------------------------------------------------------------------------------------+\n",
      "| (<ngsolve.comp.Mesh object at 0x7f4d57d6af90>, (0.016599080593136084, 0.24883252286926938)) | (<ngsolve.comp.Mesh object at 0x7f4d57d6aa40>, (0.016518780796104915, 0.12588775592610796)) | (<ngsolve.comp.Mesh object at 0x7f4d57d6aa90>, (0.01671832317894828, 0.06271537580980371)) | (<ngsolve.comp.Mesh object at 0x7f4d57d55040>, (0.016766242941756104, 0.031637685706108365)) | (<ngsolve.comp.Mesh object at 0x7f4d57d55130>, (0.016801748156545004, 0.016929723142484476)) |\n",
      "+---------------------------------------------------------------------------------------------+---------------------------------------------------------------------------------------------+--------------------------------------------------------------------------------------------+----------------------------------------------------------------------------------------------+----------------------------------------------------------------------------------------------+\n"
     ]
    }
   ],
   "source": [
    "meshes =[]\n",
    "for p in range(-3,2):\n",
    "        mesh1 =[]\n",
    "        for i in range(-3,2):\n",
    "                L = 2**i\n",
    "                T = 2**(p) # length of the time interval\n",
    "                shape = Rectangle(L,T).Face()\n",
    "                shape.edges.Min(X).name=\"left\"\n",
    "                shape.edges.Max(X).name=\"right\"\n",
    "                shape.edges.Min(Y).name=\"bottom\"\n",
    "                shape.edges.Max(Y).name=\"top\"\n",
    "                mesh = Mesh(OCCGeometry(shape, dim=2).GenerateMesh(maxh=0.025))\n",
    "                deformation = GridFunction(H1(mesh,order=1,dim=mesh.dim))\n",
    "                deformation.Set(CF((2**-i*x,2**(-p)*y))-CF((x,y)))\n",
    "                mesh.SetDeformation(deformation)\n",
    "                #Draw(sin(y),mesh,deformation=deformation)\n",
    "                #print(f\"p = {p}\" + f\" i = {i}\")       \n",
    "                may = maximumy(mesh,deformation=deformation)\n",
    "                mesh1.append((mesh,may))\n",
    "        meshes.append(mesh1)\n",
    "\n",
    "from tabulate import tabulate\n",
    "import pandas as pd\n",
    "import numpy as np\n",
    "df = pd.DataFrame(meshes)\n",
    "# Extrahiere die ersten und zweiten Werte der Tupel in separate Listen\n",
    "first_values = [[item[1][0] for item in row] for row in df.values]\n",
    "second_values = [[item[1][1] for item in row] for row in df.values]\n",
    "average_row_first_values = [np.mean(row) for row in first_values]\n",
    "average_column_second_values = [np.mean(col) for col in zip(*second_values)]\n",
    "print(average_row_first_values,average_column_second_values)\n",
    "#print(df)\n",
    "print(tabulate(meshes, headers=[\"p = -3\",\"p = -2\",\"p = -1\",\"p = 0\"], tablefmt=\"grid\"))"
   ]
  }
 ],
 "metadata": {
  "kernelspec": {
   "display_name": "Python 3",
   "language": "python",
   "name": "python3"
  },
  "language_info": {
   "codemirror_mode": {
    "name": "ipython",
    "version": 3
   },
   "file_extension": ".py",
   "mimetype": "text/x-python",
   "name": "python",
   "nbconvert_exporter": "python",
   "pygments_lexer": "ipython3",
   "version": "3.8.10"
  }
 },
 "nbformat": 4,
 "nbformat_minor": 2
}
