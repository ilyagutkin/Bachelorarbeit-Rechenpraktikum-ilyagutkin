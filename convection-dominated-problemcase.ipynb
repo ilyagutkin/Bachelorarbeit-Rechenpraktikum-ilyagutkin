{
 "cells": [
  {
   "cell_type": "code",
   "execution_count": null,
   "id": "1e96482a",
   "metadata": {},
   "outputs": [],
   "source": [
    "from ngsolve import *\n",
    "from netgen.geom2d import SplineGeometry\n",
    "from ngsolve.webgui import Draw\n",
    "from netgen.occ import *\n",
    "\n",
    "T = 1 # length of the time interval\n",
    "shape = Rectangle(1,T).Face()\n",
    "shape.edges.Min(X).name=\"left\"\n",
    "shape.edges.Max(X).name=\"right\"\n",
    "shape.edges.Min(Y).name=\"bottom\"\n",
    "shape.edges.Max(Y).name=\"top\"\n",
    "mesh = Mesh(OCCGeometry(shape, dim=2).GenerateMesh(maxh=0.15))\n",
    "Draw(mesh)"
   ]
  },
  {
   "cell_type": "markdown",
   "id": "6c9c10ca",
   "metadata": {},
   "source": [
    "# CG in a convection dominated case"
   ]
  },
  {
   "cell_type": "code",
   "execution_count": null,
   "id": "02fa2b0f",
   "metadata": {},
   "outputs": [],
   "source": [
    "fes = H1(mesh, order=4, dirichlet=\"bottom|right|left\")\n",
    "u,v = fes.TnT()\n",
    "n = specialcf.normal(2)\n",
    "w = 1 # the wind speed\n",
    "eps = 0.001 # the diffusion coefficient\n",
    "\n",
    "phi_expr = (1 - exp((x - 1)/eps)) / (1 - exp(-1/eps))\n",
    "uexact = phi_expr * exp(-y)  # y = Zeit\n",
    "\n",
    "# Ableitungen für f(x,t)\n",
    "phi = (1 - exp((x - 1)/eps)) / (1 - exp(-1/eps))\n",
    "phi_x = (1/eps) * exp((x - 1)/eps) / (1 - exp(-1/eps))\n",
    "phi_xx = (1/eps**2) * exp((x - 1)/eps) / (1 - exp(-1/eps))\n",
    "\n",
    "# Quelle f(x,t)\n",
    "f_expr = (-phi ) * exp(-y)\n",
    "\n",
    "ux = CoefficientFunction((grad(u)[0]))\n",
    "B = CoefficientFunction((w,1))\n",
    "a = BilinearForm(fes, symmetric=False)\n",
    "a += eps*ux*grad(v)[0]*dx \n",
    "a += (B*grad(u))*v*dx\n",
    "a.Assemble()\n",
    "\n",
    "f = LinearForm(fes)\n",
    "f += f_expr*v*dx\n",
    "f.Assemble()\n",
    "\n",
    "gfu = GridFunction(fes)\n",
    "gfu.Set(uexact,  BND)  # initial condition\n",
    "#gfu.Set(1,  definedon=mesh.Boundaries(\"right\"))  # Dirichlet BC\n",
    "#gfu.Set(0, definedon=mesh.Boundaries(\"left\"))  # Dirichlet BC\n",
    "\n",
    "res = f.vec.CreateVector()\n",
    "res.data = f.vec - a.mat * gfu.vec\n",
    "gfu.vec.data += a.mat.Inverse(fes.FreeDofs()) * res\n",
    "Draw(gfu)\n",
    "\n",
    "l2error = sqrt(Integrate((gfu-(uexact))**2, mesh))\n",
    "print(l2error)\n",
    "Draw(uexact, mesh, \"exact\")"
   ]
  },
  {
   "cell_type": "markdown",
   "id": "15ad1230",
   "metadata": {},
   "source": [
    "# SUPG in a convection dominated case"
   ]
  },
  {
   "cell_type": "code",
   "execution_count": null,
   "id": "954d3df1",
   "metadata": {},
   "outputs": [],
   "source": [
    "order =4\n",
    "fes = H1(mesh, order=order, dirichlet=\"bottom|right|left\")\n",
    "u,v = fes.TnT()\n",
    "n = specialcf.normal(2)\n",
    "w = 1 # the wind speed\n",
    "\n",
    "\n",
    "h = specialcf.mesh_size\n",
    "jac = specialcf.JacobianMatrix(mesh.dim)\n",
    "M = CF( [[2/sqrt(3), 1/sqrt(3)], [1/sqrt(3), 2/sqrt(3)]] )\n",
    "expr = jac.trans * M * jac\n",
    "Cinv = 36*order**2\n",
    "ws = CF((w,1))\n",
    "tau =  InnerProduct(ws,expr *ws)\n",
    "gamma_T = 1/sqrt(tau + (Cinv*eps/h**2)**2)\n",
    "\n",
    "def gradx(u):\n",
    "    return grad(u)[0]\n",
    "def dt(u):\n",
    "    return grad(u)[1]\n",
    "\n",
    "uxx = u.Operator(\"hesse\")[0,0]\n",
    "\n",
    "a = BilinearForm(fes, symmetric=False)\n",
    "a += eps*gradx(u)*gradx(v)*dx + (ws*grad(u))*v*dx\n",
    "a += gamma_T * (-eps*uxx + ws * grad(u))*(ws* grad(v)) * dx\n",
    "a.Assemble()\n",
    "\n",
    "f = LinearForm(fes)\n",
    "f += f_expr*v*dx\n",
    "f += (gamma_T * f_expr) *(ws*grad(v)) * dx\n",
    "f.Assemble()\n",
    "\n",
    "gfu = GridFunction(fes)\n",
    "gfu.Set(uexact,  BND)  # initial condition\n",
    "#gfu.Set(1,  definedon=mesh.Boundaries(\"right\"))  # Dirichlet BC\n",
    "#gfu.Set(0, definedon=mesh.Boundaries(\"left\"))  # Dirichlet BC\n",
    "#Draw(gfu)\n",
    "res = f.vec.CreateVector()\n",
    "res.data = f.vec - a.mat * gfu.vec\n",
    "gfu.vec.data += a.mat.Inverse(fes.FreeDofs()) * res\n",
    "Draw(gfu)\n",
    "\n",
    "\n",
    "l2error = sqrt(Integrate((gfu-(uexact))**2, mesh))\n",
    "print(l2error)\n",
    "Draw(uexact, mesh, \"exact\")"
   ]
  }
 ],
 "metadata": {
  "kernelspec": {
   "display_name": "Python 3",
   "language": "python",
   "name": "python3"
  },
  "language_info": {
   "codemirror_mode": {
    "name": "ipython",
    "version": 3
   },
   "file_extension": ".py",
   "mimetype": "text/x-python",
   "name": "python",
   "nbconvert_exporter": "python",
   "pygments_lexer": "ipython3",
   "version": "3.8.10"
  }
 },
 "nbformat": 4,
 "nbformat_minor": 5
}
