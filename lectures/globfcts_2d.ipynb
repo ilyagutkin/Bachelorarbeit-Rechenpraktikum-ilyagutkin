{
 "cells": [
  {
   "cell_type": "markdown",
   "metadata": {},
   "source": [
    "### Meshes in 2D\n",
    "\n",
    "In 2D we provide a mesh for rectangles, `StructuredRectangleMesh`:"
   ]
  },
  {
   "cell_type": "code",
   "execution_count": null,
   "metadata": {},
   "outputs": [],
   "source": [
    "from import_hack import *\n",
    "from methodsnm.mesh import *\n",
    "from methodsnm.visualize import DrawMesh2D\n",
    "m = StructuredRectangleMesh(10, 10)\n",
    "DrawMesh2D(m)"
   ]
  },
  {
   "cell_type": "code",
   "execution_count": null,
   "metadata": {},
   "outputs": [],
   "source": [
    "m = StructuredRectangleMesh(10, 10, mapping= lambda x,y: (x+0.2*y*y,y))\n",
    "DrawMesh2D(m)"
   ]
  }
 ],
 "metadata": {
  "kernelspec": {
   "display_name": "Python 3",
   "language": "python",
   "name": "python3"
  },
  "language_info": {
   "codemirror_mode": {
    "name": "ipython",
    "version": 3
   },
   "file_extension": ".py",
   "mimetype": "text/x-python",
   "name": "python",
   "nbconvert_exporter": "python",
   "pygments_lexer": "ipython3",
   "version": "3.11.5"
  },
  "orig_nbformat": 4
 },
 "nbformat": 4,
 "nbformat_minor": 2
}
