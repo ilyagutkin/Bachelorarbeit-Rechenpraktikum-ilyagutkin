{
 "cells": [
  {
   "cell_type": "markdown",
   "metadata": {},
   "source": [
    "### Meshes in 2D\n",
    "\n",
    "In 2D we provide a mesh for rectangles, `StructuredRectangleMesh`:"
   ]
  },
  {
   "cell_type": "code",
   "execution_count": null,
   "metadata": {},
   "outputs": [],
   "source": [
    "from import_hack import *\n",
    "from methodsnm.mesh_2d import *\n",
    "from methodsnm.visualize import DrawMesh2D\n",
    "m = StructuredRectangleMesh(10, 10)\n",
    "DrawMesh2D(m)"
   ]
  },
  {
   "cell_type": "code",
   "execution_count": null,
   "metadata": {},
   "outputs": [],
   "source": [
    "from numpy import sin, cos, pi\n",
    "m = StructuredRectangleMesh(12, 3, mapping= lambda x,y: (cos(pi*x)*(1+y), sin(pi*x)*(1+y)))\n",
    "DrawMesh2D(m)"
   ]
  },
  {
   "cell_type": "code",
   "execution_count": null,
   "metadata": {},
   "outputs": [],
   "source": [
    "from methodsnm.visualize import DrawFunction2D\n",
    "from methodsnm.meshfct import GlobalFunction\n",
    "from numpy import sin, cos, pi\n",
    "u = GlobalFunction(function=lambda x: sin(2*(x[0]+x[1])*pi), mesh=m)\n",
    "DrawFunction2D(u, sampling=5)"
   ]
  },
  {
   "cell_type": "markdown",
   "metadata": {},
   "source": [
    "### FEFunctions in 2D\n",
    "\n",
    "#### Task `FES2D`-1\n",
    "\n",
    "Implement the `P1_Triangle_Space` to make the following visualization of basis functions work:"
   ]
  },
  {
   "cell_type": "code",
   "execution_count": null,
   "metadata": {},
   "outputs": [],
   "source": [
    "from methodsnm.fes import *\n",
    "from methodsnm.meshfct import FEFunction\n",
    "m = StructuredRectangleMesh(2, 2)\n",
    "fes = P1_Triangle_Space(m)\n",
    "uh = FEFunction(fes)\n",
    "for i in range(fes.ndof):\n",
    "    uh.vector[:] = 0\n",
    "    uh.vector[i] = 1\n",
    "    DrawFunction2D(uh,shrink_eps=0.05)   "
   ]
  },
  {
   "cell_type": "markdown",
   "metadata": {},
   "source": [
    "\n",
    "\n",
    "#### Task `FES2D`-2\n",
    "\n",
    "Implement the P2 of the Triangle FESpace (or implement a Triangle FESpace that takes the polynomial degree as argument)."
   ]
  },
  {
   "cell_type": "code",
   "execution_count": null,
   "metadata": {},
   "outputs": [],
   "source": [
    "#from methodsnm.fes import P2_Triangle_Space\n",
    "#from methodsnm.meshfct import FEFunction\n",
    "#m = StructuredRectangleMesh(2, 2)\n",
    "#fes = P2_Triangle_Space(m)\n",
    "#uh = FEFunction(fes)\n",
    "#for i in range(fes.ndof):\n",
    "#    uh.vector[:] = 0\n",
    "#    uh.vector[i] = 1\n",
    "#    DrawFunction2D(uh,shrink_eps=0.05)   "
   ]
  },
  {
   "cell_type": "markdown",
   "metadata": {},
   "source": [
    "#### Task `FES2D`-3\n",
    "\n",
    "Extend the previous tasks to P3. "
   ]
  },
  {
   "cell_type": "code",
   "execution_count": null,
   "metadata": {},
   "outputs": [],
   "source": [
    "#from methodsnm.fes import P3_Triangle_Space\n",
    "#from methodsnm.meshfct import FEFunction\n",
    "#m = StructuredRectangleMesh(2, 2)\n",
    "#fes = P3_Triangle_Space(m)\n",
    "#uh = FEFunction(fes)\n",
    "#for i in range(fes.ndof):\n",
    "#    uh.vector[:] = 0\n",
    "#    uh.vector[i] = 1\n",
    "#    DrawFunction2D(uh,shrink_eps=0.05)   "
   ]
  },
  {
   "cell_type": "markdown",
   "metadata": {},
   "source": [
    "#### Task `FES2D`-4 (optional)\n",
    "\n",
    "Implement an FESpace based on the `P1Edge_Triangle_FE` where basis functions are associated to each edge."
   ]
  },
  {
   "cell_type": "code",
   "execution_count": null,
   "metadata": {},
   "outputs": [],
   "source": [
    "#from methodsnm.fes import P1Edge_Triangle_Space\n",
    "#from methodsnm.meshfct import FEFunction\n",
    "#m = StructuredRectangleMesh(2, 2)\n",
    "#fes = P1Edge_Triangle_Space(m)\n",
    "#uh = FEFunction(fes)\n",
    "#for i in range(fes.ndof):\n",
    "#    uh.vector[:] = 0\n",
    "#    uh.vector[i] = 1\n",
    "#    DrawFunction2D(uh,shrink_eps=0.05)   "
   ]
  },
  {
   "cell_type": "markdown",
   "metadata": {},
   "source": [
    "#### Task `FES2D-5` (optional)\n",
    "\n",
    "Implement an additional function `interpolate` that takes another `MeshFunction` and interpolates the values based on the Lagrange interpolation:\n",
    "\n",
    "$$\n",
    " u_h(x) = I_h(v) = \\sum_{i=1}^{\\texttt{ndof}} \\Psi_i(v) \\phi_i(x)\n",
    "$$\n",
    "where $\\Psi_i$ are the functionals that are defined by the degrees of freedom. Note that global and local functionals have a correspondence through the finite element space. In the case of the Lagrange space, the functionals are point evaluations. "
   ]
  },
  {
   "cell_type": "markdown",
   "metadata": {},
   "source": [
    "\n",
    "#### Task `FES2D`-6 (optional)\n",
    "\n",
    "Modify the finite elements to be able to use different orders on different elements."
   ]
  }
 ],
 "metadata": {
  "kernelspec": {
   "display_name": "Python 3",
   "language": "python",
   "name": "python3"
  },
  "language_info": {
   "codemirror_mode": {
    "name": "ipython",
    "version": 3
   },
   "file_extension": ".py",
   "mimetype": "text/x-python",
   "name": "python",
   "nbconvert_exporter": "python",
   "pygments_lexer": "ipython3",
   "version": "3.11.5"
  },
  "orig_nbformat": 4
 },
 "nbformat": 4,
 "nbformat_minor": 2
}
