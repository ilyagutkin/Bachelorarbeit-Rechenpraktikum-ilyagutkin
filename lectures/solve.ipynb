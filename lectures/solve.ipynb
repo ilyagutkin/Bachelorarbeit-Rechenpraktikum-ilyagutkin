{
 "cells": [
  {
   "cell_type": "markdown",
   "metadata": {},
   "source": [
    "# Numerical investigations, error measurements, and convergence tests\n",
    "\n",
    "Finally, we want to put pieces together. As an orientation we can start with the simple Poisson demos provided in `demos` and make sure the 1D and 2D demos run through successfully."
   ]
  },
  {
   "cell_type": "markdown",
   "metadata": {},
   "source": [
    "### Task `Solve`-1:\n",
    "\n",
    "Now, we want to measure errors. To this end write a function `error(u_h, u_exact)` that computes the $L^2$-error between the approximate solution `u_h` and the exact solution `u_exact` in the $L^2$ norm, i.e.\n",
    "$$\n",
    "    \\int_{\\Omega} (u_h - u_{\\text{exact}})^2 \\, dx.\n",
    "$$\n",
    "The function should return the error as a scalar. To this end use a loop over elements similar to the one in the `assemble`-functions. On each element use proper integration rules and proceed similar to the procedure in `compute_element_....` functions.\n",
    "\n",
    "To find a setting where you can verify your implementation, use the following \"trick\", sometimes known as the method of \"manufactured solution\":\n",
    "* Choose a (nice) function $u_{\\text{exact}}$ (with proper boundary conditions, i.e. $\\partial_n u_{\\text{exact}}=0$ on $\\partial \\Omega$).\n",
    "* Compute the right hand side $f$ by plugging $u_{\\text{exact}}$ into the PDE.\n",
    "* Solve the PDE numerically with the right hand side $f$ which yields an approximate solution $u_h$."
   ]
  },
  {
   "cell_type": "markdown",
   "metadata": {},
   "source": [
    "### Task `Solve`-2:\n",
    "\n",
    "Next, carry out a convergence study. Let $h$ be the minimal mesh size in your 1D/2D mesh. Observe for a fixed type of finite element space the convergence rate of the error in the $L^2$-norm. \n",
    "\n",
    "Carry out the experiment for different finite element spaces."
   ]
  },
  {
   "cell_type": "markdown",
   "metadata": {},
   "source": [
    "### Task `Solve`-3:\n",
    "\n",
    "Now, implement the computation of the $H^1$ error:\n",
    "$$\n",
    "    \\int_{\\Omega} \\|(\\nabla (u_h - u_{\\text{exact}}) \\|^2+ (u_h - u_{\\text{exact}})^2 \\, dx\n",
    "$$\n",
    "and repeat the convergence studies. What do you observe?"
   ]
  },
  {
   "cell_type": "markdown",
   "metadata": {},
   "source": [
    "### Task `Solve`-4:\n",
    "\n",
    "Given a (2D or 1D) domain. We now want to solve the following Poisson problem with homogeneous Dirichlet boundary conditions:\n",
    "Find $u \\in H^1_0(\\Omega)$ such that\n",
    "$$\n",
    "\\int_{\\Omega} \\nabla u \\cdot \\nabla v dx = \\int_{\\Omega} f v dx\n",
    "$$\n",
    "for all $v \\in H^1_0(\\Omega)$.\n",
    "\n",
    "The discrete problem reads: Find $u_h \\in V_{h,0} = \\{ v|_T \\in \\mathcal{P}^k(T) \\} \\cap C^0_0(\\Omega)$, where $C^0_0(\\Omega) := \\{v \\in C^0(\\Omega)\\mid v|_{\\partial \\Omega} = 0\\}$ such that\n",
    "$$\n",
    "\\int_{\\Omega} \\nabla u_h \\cdot \\nabla v_h dx = \\int_{\\Omega} f v_h dx\n",
    "$$\n",
    "for all $v_h \\in V_{h,0}$.\n",
    "\n",
    "To realize this, we first set up the linear system for the unconstrained problem:\n",
    "\n",
    "Find $u_h \\in V_{h} = \\{ v|_T \\in \\mathcal{P}^k(T) \\} \\cap C^0(\\Omega)$ such that\n",
    "$$\n",
    "\\int_{\\Omega} \\nabla u_h \\cdot \\nabla v_h dx = \\int_{\\Omega} f v_h dx\n",
    "$$\n",
    "for all $v_h \\in V_{h}$. This yields a linear system $A \\cdot x = b$ for matrix $A$ and vector $b$.\n",
    "\n",
    "Then, we need to modify the linear system to account for the Dirichlet boundary conditions. \n",
    "\n",
    "One simple hack is the following:\n",
    "\n",
    "Set all rows and columns of $A$ corresponding to degrees of freedom on the boundary to zero, except for the diagonal entries which we set to one. We also set the corresponding entries in $b$ to zero. This yields a linear system $\\tilde{A} \\cdot x = \\tilde{b}$.\n",
    "\n",
    "Finally, we solve the linear system $\\tilde{A} \\cdot x = \\tilde{b}$ and obtain the solution $u_h$.\n",
    "\n",
    "\n"
   ]
  },
  {
   "cell_type": "markdown",
   "metadata": {},
   "source": [
    "### Task `Solve`-5:\n",
    "\n",
    "Test your implementation of the previous task with a convergence study is in the previous tasks."
   ]
  }
 ],
 "metadata": {
  "kernelspec": {
   "display_name": "Python 3",
   "language": "python",
   "name": "python3"
  },
  "language_info": {
   "codemirror_mode": {
    "name": "ipython",
    "version": 3
   },
   "file_extension": ".py",
   "mimetype": "text/x-python",
   "name": "python",
   "nbconvert_exporter": "python",
   "pygments_lexer": "ipython3",
   "version": "3.11.3"
  },
  "orig_nbformat": 4
 },
 "nbformat": 4,
 "nbformat_minor": 2
}
