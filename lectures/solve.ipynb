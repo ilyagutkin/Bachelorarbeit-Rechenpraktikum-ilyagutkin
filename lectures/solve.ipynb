{
 "cells": [
  {
   "cell_type": "markdown",
   "metadata": {},
   "source": [
    "Finally, we want to put pieces together. As an orientation we can start with the simple Poisson demo provided in `demos`."
   ]
  },
  {
   "cell_type": "markdown",
   "metadata": {},
   "source": [
    "### Task `Solve`-1:\n",
    "\n",
    "Take a look at the simple Poisson demo in the `demos` directory. Extend the example to 2D, i.e. formulate the problem, solve it and visualize the solution."
   ]
  },
  {
   "cell_type": "markdown",
   "metadata": {},
   "source": [
    "### Task `Solve`-2:\n",
    "\n",
    "Next, solve a problem with boundary conditions..."
   ]
  },
  {
   "cell_type": "markdown",
   "metadata": {},
   "source": []
  }
 ],
 "metadata": {
  "kernelspec": {
   "display_name": "Python 3",
   "language": "python",
   "name": "python3"
  },
  "language_info": {
   "codemirror_mode": {
    "name": "ipython",
    "version": 3
   },
   "file_extension": ".py",
   "mimetype": "text/x-python",
   "name": "python",
   "nbconvert_exporter": "python",
   "pygments_lexer": "ipython3",
   "version": "3.11.3"
  },
  "orig_nbformat": 4
 },
 "nbformat": 4,
 "nbformat_minor": 2
}
