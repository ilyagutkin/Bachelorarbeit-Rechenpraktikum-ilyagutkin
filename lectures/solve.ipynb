{
 "cells": [
  {
   "cell_type": "markdown",
   "metadata": {},
   "source": [
    "# Finite element assembly\n",
    "\n",
    "We now have many ingredients to assemble the finite element system at our disposal. We have the basis functions, the quadrature rule, the mesh, ... .\n",
    "\n",
    "We will split the setup of the linear system in two parts:\n",
    " * the computation of local contributions on each element (\"``form integrals``\") and\n",
    " * putting together the local contributions to the global system (the \"``assembly``\").\n",
    "\n"
   ]
  },
  {
   "cell_type": "markdown",
   "metadata": {},
   "source": [
    "## Example: Mass matrix\n",
    "\n",
    "We will start with the mass matrix, which is the simplest example. The mass matrix is given by\n",
    "$$\n",
    "M_{ij} = \\int_\\Omega \\phi_i \\phi_j \\, dx \n",
    "$$\n",
    "The first step is to compute the local contributions. For the mass matrix, this is given by\n",
    "$$\n",
    "M_{ij} = \\int_{\\Omega} \\phi_i \\phi_j \\, dx = \\sum_{T \\in \\mathcal{T}_h} \\int_T \\phi_i \\phi_j \\, dx\n",
    "$$\n",
    "\n",
    "As most basis functions are zero outside of their element, we can restrict the integration on the element $T$ to basis functions that are non-zero on $T$. \n",
    "\n",
    "For every $i$ so that $\\phi_i|_T \\neq 0$ we have that $\\phi_i = \\phi_{m(i)}$ for some $m(i)$ where $m$ is the local-to-global map (`element_dofs` of `FESpace`). \n",
    "\n",
    "Instead of running of $i$ and $j$ for all dofs, the matrix $M$ is rather filled by running of all elements $T$ and collecting all contributions of the basis functions that are non-zero on $T$ first and then adding them to the matrix $M$.\n",
    "\n",
    "$$\n",
    "M = \\sum_{T \\in \\mathcal{T}_h} E_T^T M^T E_T\n",
    "$$\n",
    "where $M^T \\in \\mathbb{R}^{n_{local} \\times n_{local}}$ is the local mass matrix on $T$ and $E_T \\in \\mathbb{R}^{n_{global} \\times n_{local}}$ is \"connectivity\" matrix (never used as a matrix though!) with $(E_T)_{i,j} = \\delta_{i,m(j)}$, i.e. the matrix that associates the global dof $i$ with the local dof $j$ according to the local-to-global map  $m(j)$.\n",
    "\n",
    "We will now turn to the realization of $M^T$. To this end we note that with $\\bar \\phi_i = \\phi_{m(i)}$ we have\n",
    "$$\n",
    "M^T_{i,j} = \\int_T \\phi_{m(i)} \\phi_{m(j)} \\, dx = \\int_T \\bar \\phi_{i} \\bar \\phi_{j} \\, dx \n",
    "$$\n",
    "Now, we want to translate this to the reference element and note that with"
   ]
  },
  {
   "cell_type": "markdown",
   "metadata": {},
   "source": []
  }
 ],
 "metadata": {
  "kernelspec": {
   "display_name": "Python 3",
   "language": "python",
   "name": "python3"
  },
  "language_info": {
   "codemirror_mode": {
    "name": "ipython",
    "version": 3
   },
   "file_extension": ".py",
   "mimetype": "text/x-python",
   "name": "python",
   "nbconvert_exporter": "python",
   "pygments_lexer": "ipython3",
   "version": "3.11.3"
  },
  "orig_nbformat": 4
 },
 "nbformat": 4,
 "nbformat_minor": 2
}
