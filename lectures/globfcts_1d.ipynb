{
 "cells": [
  {
   "cell_type": "markdown",
   "metadata": {},
   "source": [
    "### Meshes in 1D \n",
    "We will start with the simplest case: 1D domain, $(a,b) \\subset \\mathbb{R}$, decomposed into $N$ line segments."
   ]
  },
  {
   "cell_type": "code",
   "execution_count": null,
   "metadata": {},
   "outputs": [],
   "source": [
    "from import_hack import *\n",
    "from mesh import *\n",
    "from visualize import DrawMesh1D\n",
    "m = Mesh1D([0,1],10)\n",
    "DrawMesh1D(m)"
   ]
  },
  {
   "cell_type": "code",
   "execution_count": null,
   "metadata": {},
   "outputs": [],
   "source": [
    "m = Mesh1D([0,0.9,1],10)\n",
    "DrawMesh1D(m)"
   ]
  },
  {
   "cell_type": "code",
   "execution_count": null,
   "metadata": {},
   "outputs": [],
   "source": [
    "m = m.uniform_refine()\n",
    "DrawMesh1D(m)"
   ]
  },
  {
   "cell_type": "markdown",
   "metadata": {},
   "source": [
    "## Mesh functions\n",
    "\n",
    "We use the term `MeshFunction` for functions that can be evaluated on a mesh using a combination of \n",
    "* a mesh element and \n",
    "* a (local) integration point. "
   ]
  },
  {
   "cell_type": "markdown",
   "metadata": {},
   "source": [
    "To connect the local point of view (integration point) and the global/mesh view we use a **transformation from reference element to physical element**\n",
    "\n",
    "In 1D: $\\Phi_T: (0,1) \\to (a,b)$ where $(a,b)$ is the domain of an element $T$ of the mesh.\n",
    "\n",
    "* $\\leadsto$ [Implementation in `trafo.py`](../src/trafo.py)\n",
    "* $\\leadsto$ [Implementation in `mesh.py`](../src/mesh.py)"
   ]
  },
  {
   "cell_type": "markdown",
   "metadata": {},
   "source": [
    "There are essentially two types of functions that we want to unify with a `MeshFunction`:\n",
    "* Functions given in world coordinate (not directly related to the mesh)\n",
    "* Finite element based functions that are naturally described by integration point and element index"
   ]
  },
  {
   "cell_type": "markdown",
   "metadata": {},
   "source": [
    "Let's take a look at the implementations of `MeshFunction`s:\n",
    "\n",
    "* $\\leadsto$ [Implementation in `mesh.py`](../src/mesh.py)"
   ]
  },
  {
   "cell_type": "markdown",
   "metadata": {},
   "source": [
    "### Example of a `GlobalFunction`"
   ]
  },
  {
   "cell_type": "code",
   "execution_count": null,
   "metadata": {},
   "outputs": [],
   "source": [
    "from meshfct import *\n",
    "from visualize import DrawFunction1D\n",
    "from math import sin, pi\n",
    "m = Mesh1D([0,1],3)\n",
    "uex = GlobalFunction(function=lambda x: sin(4*x*pi), mesh=m)\n",
    "DrawFunction1D(uex, sampling=24, show_mesh=True)"
   ]
  },
  {
   "cell_type": "markdown",
   "metadata": {},
   "source": [
    "Next, we make the connection between local and global for finite elements."
   ]
  },
  {
   "cell_type": "markdown",
   "metadata": {},
   "source": [
    "## Finite element spaces and the global to local map"
   ]
  },
  {
   "cell_type": "markdown",
   "metadata": {},
   "source": [
    "* Discrete objects so far were only defined on the reference element. \n",
    "* With the help of the transformation we can define these on any physical element.\n",
    "* Next, we need to sum up the contributions and manage the related `dof`s"
   ]
  },
  {
   "cell_type": "markdown",
   "metadata": {},
   "source": [
    "### `Dof` handling\n",
    "The finite element space (`FESpace`) basically translates local to global `dof`s. "
   ]
  },
  {
   "cell_type": "markdown",
   "metadata": {},
   "source": [
    "We again start by a simple example: piecewise linear elements on a 1D mesh:\n",
    "\n",
    "* $\\leadsto$ [Implementation in `fes.py`](../src/fes.py)\n",
    "* and the next cell for trying it out"
   ]
  },
  {
   "cell_type": "code",
   "execution_count": null,
   "metadata": {},
   "outputs": [],
   "source": [
    "from fes import *\n",
    "m = Mesh1D([0,1],10)\n",
    "fes = P1_Segments_Space(m)\n",
    "for elnr,el in enumerate(m.elements()):\n",
    "    print(\"element number:\", elnr, end=\"\\t\")\n",
    "    print(\"element vertices (indices):\", el, end=\"\\t\")\n",
    "    print(\"global dofs of element:\", fes.element_dofs(elnr))"
   ]
  },
  {
   "cell_type": "markdown",
   "metadata": {},
   "source": [
    "### Tasks"
   ]
  },
  {
   "cell_type": "markdown",
   "metadata": {},
   "source": [
    "#### Task `FES1D-1`\n",
    "Add a parameter to the `P1_Segments_Space` class that identifies the most left and the most right `dof`, rending the functions periodic. Adjust `ndof` and the global to local map accordingly.\n",
    "* What are the `ndofs` now?\n",
    "* What is the global to local map now?\n",
    "* Implement the changes directly in `P1_Segments_Space` and test your implementation with the following code:\n"
   ]
  },
  {
   "cell_type": "code",
   "execution_count": null,
   "metadata": {},
   "outputs": [],
   "source": [
    "#m = Mesh1D([0,1],10)\n",
    "#fes = P1_Segments_Space(m, periodic = True)\n",
    "#for elnr,el in enumerate(m.elements()):\n",
    "#    print(el)\n",
    "#    print(fes.element_dofs(elnr))"
   ]
  },
  {
   "cell_type": "markdown",
   "metadata": {},
   "source": [
    "----"
   ]
  },
  {
   "cell_type": "markdown",
   "metadata": {},
   "source": [
    "### Global basis functions:\n",
    "\n",
    "To test the global to local map, let's draw all shape functions of an `FESpace`:"
   ]
  },
  {
   "cell_type": "code",
   "execution_count": null,
   "metadata": {},
   "outputs": [],
   "source": [
    "from meshfct import *\n",
    "from visualize import DrawFunction1D\n"
   ]
  },
  {
   "cell_type": "code",
   "execution_count": null,
   "metadata": {},
   "outputs": [],
   "source": [
    "m = Mesh1D([0,1],3)\n",
    "DrawShapes(P1_Segments_Space(m))"
   ]
  },
  {
   "cell_type": "markdown",
   "metadata": {},
   "source": [
    "#### Task `FES1D-2`\n",
    "Implement a finite element space of discontinuous functions corresponding to either (or all):\n",
    "* the `P1` finite element or\n",
    "* the `P1*` finite element or\n",
    "* a new `P0` element of element-wise constant functions\n",
    "\n",
    "Task:\n",
    "* Think about the global number of unknowns\n",
    "* Think about the global to local dof map\n",
    "* Implemen the FESpace and draw the basis functions\n",
    "\n"
   ]
  },
  {
   "cell_type": "markdown",
   "metadata": {},
   "source": [
    "#### Task `FES1D-3`\n",
    "Implement a higher order Lagrange finite element space and draw the basis functions.\n"
   ]
  },
  {
   "cell_type": "markdown",
   "metadata": {},
   "source": []
  }
 ],
 "metadata": {
  "kernelspec": {
   "display_name": "Python 3",
   "language": "python",
   "name": "python3"
  },
  "language_info": {
   "codemirror_mode": {
    "name": "ipython",
    "version": 3
   },
   "file_extension": ".py",
   "mimetype": "text/x-python",
   "name": "python",
   "nbconvert_exporter": "python",
   "pygments_lexer": "ipython3",
   "version": "3.11.5"
  },
  "orig_nbformat": 4
 },
 "nbformat": 4,
 "nbformat_minor": 2
}
