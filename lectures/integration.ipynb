{
 "cells": [
  {
   "cell_type": "markdown",
   "metadata": {},
   "source": [
    "# Numerical Integration\n",
    "\n",
    "To form the finite element integrals we need to be able to evaluate integrals of the form $\\int_{\\Omega} \\phi_i \\phi_j dx$, $\\int_{\\Omega} \\nabla \\phi_i \\cdot \\nabla \\phi_j dx$ and $\\int_{\\Omega} f ~ \\phi_i~ dx$. \n",
    "\n",
    "As we will see later, we decompose the domain into a set of elements $\\{T\\} =: \\mathcal{T}_h$ and then decompose the integration problem into the element problems. \n",
    "\n",
    "For now, we will assume that the domain of integration is a single element $T$. \n",
    "\n",
    "This element furthermore can be mapped to a *reference element* of same type (segment, triangle, quadrilateral, tetrahedron, hexahedron) so that the fundamental integration problem to solve is the integration over the reference element.\n",
    "\n",
    "On the reference interval the previously mentioned integrals could be solved analytically.  However, for coefficient functions that are not polynomials, e.g. in the r.h.s. source terms or the diffusivity, this is soon not possible. Therefore, most often **numerical integration** is used in finite element codes."
   ]
  },
  {
   "cell_type": "markdown",
   "metadata": {},
   "source": [
    "## 1D Numerical integration\n",
    "\n",
    "As Numerical integration has been considered in the numerics lecture (Numerik II), we will not do a detailed lecture on this topic here. Instead, we will just briefly recap the main ideas and then go to the implement of some standard 1D numerical integration schemes. \n",
    "\n"
   ]
  },
  {
   "cell_type": "markdown",
   "metadata": {},
   "source": [
    "\n",
    "#### The integration problem:\n",
    "$$\n",
    "I(f) := \\int_{0}^{1} f(x) dx \\approx Q(f) := \\sum_{i=1}^{n} w_i f(x_i) \\tag{Q}\n",
    "$$\n",
    "\n",
    "Let's do a brief recap of numerical integration based on a few repition questions (if needed we will do a more detailed lecture/session on this):\n"
   ]
  },
  {
   "cell_type": "markdown",
   "metadata": {},
   "source": [
    "#### Interpolation quadrature:\n",
    "\n",
    "* What is the idea of interpolation quadrature?\n"
   ]
  },
  {
   "cell_type": "markdown",
   "metadata": {},
   "source": [
    "\n",
    "#### Interpolation Exactness:\n",
    "\n",
    "* What is the exactness degree of a quadrature scheme?\n",
    "* How can it be used constructively to come up with a quadrature scheme of a certain exactness degree?\n"
   ]
  },
  {
   "cell_type": "markdown",
   "metadata": {},
   "source": [
    "\n",
    "#### Gaussian quadrature:\n",
    "\n",
    "* What is the idea of Gaussian quadrature?\n",
    "* Which accuracy can be achieved with Gaussian quadrature?\n",
    "* How are Gaussian quadrature points and weights computed? How are they related to orthogonal polynomials?\n"
   ]
  },
  {
   "cell_type": "markdown",
   "metadata": {},
   "source": [
    "\n",
    "### Implementation: $\\leadsto$ [intrule.py](intrule.py), [intrule_1d.py](intrule_1d.py)\n",
    "\n"
   ]
  },
  {
   "cell_type": "markdown",
   "metadata": {},
   "source": [
    "## 2D Numerical integration"
   ]
  },
  {
   "cell_type": "markdown",
   "metadata": {},
   "source": []
  },
  {
   "cell_type": "markdown",
   "metadata": {},
   "source": []
  }
 ],
 "metadata": {
  "kernelspec": {
   "display_name": "Python 3",
   "language": "python",
   "name": "python3"
  },
  "language_info": {
   "codemirror_mode": {
    "name": "ipython",
    "version": 3
   },
   "file_extension": ".py",
   "mimetype": "text/x-python",
   "name": "python",
   "nbconvert_exporter": "python",
   "pygments_lexer": "ipython3",
   "version": "3.11.5"
  },
  "orig_nbformat": 4
 },
 "nbformat": 4,
 "nbformat_minor": 2
}
