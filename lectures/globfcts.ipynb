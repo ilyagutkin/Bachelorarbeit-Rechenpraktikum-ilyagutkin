{
 "cells": [
  {
   "cell_type": "markdown",
   "metadata": {},
   "source": [
    "# Global functions\n",
    "We started with local (basis) functions on finite elements. Now, we want to put them together to global functions. \n",
    "\n",
    "We need:\n",
    "* a mesh consisting of geometrical elements\n",
    "* corresponding transformations from reference element to physical element\n",
    "* local and global basis coefficients \n",
    "\n",
    "We will first do this in 1D and continue with 2D afterwards."
   ]
  },
  {
   "cell_type": "markdown",
   "metadata": {},
   "source": [
    "## A mesh\n",
    "\n",
    "A mesh is a decomposition of the domain of interest into simple geometrical elements:\n",
    "* line segments in 1D\n",
    "* triangles (or quadrilaterals, sometimes more general polygons) in 2D\n",
    "* tetrahedra, hexahedra, prisms, pyramids (sometimes more general polygons) in 3D\n",
    "\n"
   ]
  },
  {
   "cell_type": "markdown",
   "metadata": {},
   "source": [
    "We will start with the simplest case: 1D domain, $(a,b) \\subset \\mathbb{R}$, decomposed into $N$ line segments."
   ]
  }
 ],
 "metadata": {
  "kernelspec": {
   "display_name": "Python 3",
   "language": "python",
   "name": "python3"
  },
  "language_info": {
   "codemirror_mode": {
    "name": "ipython",
    "version": 3
   },
   "file_extension": ".py",
   "mimetype": "text/x-python",
   "name": "python",
   "nbconvert_exporter": "python",
   "pygments_lexer": "ipython3",
   "version": "3.11.3"
  },
  "orig_nbformat": 4
 },
 "nbformat": 4,
 "nbformat_minor": 2
}
