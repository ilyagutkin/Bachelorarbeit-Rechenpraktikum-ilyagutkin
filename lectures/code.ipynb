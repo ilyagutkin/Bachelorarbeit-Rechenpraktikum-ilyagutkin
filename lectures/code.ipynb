{
 "cells": [
  {
   "cell_type": "markdown",
   "metadata": {},
   "source": [
    "## Working with the course material"
   ]
  },
  {
   "cell_type": "markdown",
   "metadata": {},
   "source": [
    "### Tools\n",
    "\n",
    "We use the following main development tools in the course (you can learn them by doing)\n",
    "* `python` for programming - An IDE may be helpful (jupyterlab may suffice, perhaps also VSCode, PyCharm, .. )\n",
    "* git - we may want to fork the main project and send commits/branches around - Using git (at least within jupyterlab) is needed\n",
    "* jupyter - jupyterlab (e.g. through the gwdg jupyterhub cloud) suffices, but \n",
    "* pytest - we want to test implementation and use `pytest`\n",
    "* gitlab - as project management system gitlab provides some further tools such as continuous integration (CI) which we will use"
   ]
  },
  {
   "cell_type": "markdown",
   "metadata": {},
   "source": [
    "We will clone and setup the project together."
   ]
  },
  {
   "cell_type": "markdown",
   "metadata": {},
   "source": [
    "## Setting up for the project"
   ]
  },
  {
   "cell_type": "markdown",
   "metadata": {},
   "source": [
    "### Forking the project \n",
    "Go to the [base project](https://gitlab.gwdg.de/lehrenfeld/methodsnm) and fork it to your own namespace.\n",
    "This should copy many settings such as \n",
    " * CI and \n",
    " * gitlab pages deployment \n",
    " * the docker container registry\n",
    "being active for your fork.\n",
    "\n",
    "Once, you have forked the project, we can discuss the project together.\n",
    "\n",
    "Note: Keep the fork updated with the base project. You will be noticed whenever there are important updates!"
   ]
  },
  {
   "cell_type": "markdown",
   "metadata": {},
   "source": [
    "### Cloning the project\n",
    "\n",
    "To work on the project, you need to `git` clone it to your local machine (or jupyter hub in the gwdg cloud)."
   ]
  },
  {
   "cell_type": "markdown",
   "metadata": {},
   "source": [
    "### Running the tests\n",
    "You can see the tests in the `tests` directory.\n",
    "* They run with the CI pipeline (see in gitlab)\n",
    "* You can run them locally by installing `pytest` and running `pytest` in the `tests` directory.\n",
    "* Many of the existing tests still fail due to a missing implementation - this is left for you to fill up within the course.\n",
    "* You should add more tests within the project\n"
   ]
  },
  {
   "cell_type": "markdown",
   "metadata": {},
   "source": [
    "### Demos\n",
    "\n",
    "In `demos` you should add larger examples, test cases, experiments, etc., as python or jupyter files. As of now there is only a single demo."
   ]
  },
  {
   "cell_type": "markdown",
   "metadata": {},
   "source": [
    "## Some explanation on the code structure\n",
    "\n",
    "Let us have a look at the code, directories and files together."
   ]
  },
  {
   "cell_type": "markdown",
   "metadata": {},
   "source": [
    "### Generate simple class diagram (optional - don't care if it does not work)\n",
    "We generate a class diagram. This requires `pylint` and `graphviz` to be installed on your system:"
   ]
  },
  {
   "cell_type": "code",
   "execution_count": null,
   "metadata": {
    "tags": []
   },
   "outputs": [],
   "source": [
    "!pip install pylint graphviz --break-system-packages"
   ]
  },
  {
   "cell_type": "code",
   "execution_count": null,
   "metadata": {},
   "outputs": [],
   "source": [
    "!pyreverse -k -o pdf ../src/methodsnm && mv classes.pdf ../graphics/classes.pdf"
   ]
  },
  {
   "cell_type": "markdown",
   "metadata": {},
   "source": [
    "Now, we can inspect it in the notebook:"
   ]
  },
  {
   "cell_type": "code",
   "execution_count": null,
   "metadata": {
    "tags": []
   },
   "outputs": [],
   "source": [
    "from IPython.display import IFrame\n",
    "IFrame(\"../graphics/classes.pdf\", width=\"100%\", height=500)\n",
    "#IFrame(\"../graphics/classes_ref.pdf\", width=\"100%\", height=500)"
   ]
  },
  {
   "cell_type": "markdown",
   "metadata": {},
   "source": [
    "If displaying does not work (VSCode ?!), just directly [navigate to it](../graphics/classes.pdf) (or to a [reference](../graphics/classes.pdf))."
   ]
  },
  {
   "cell_type": "code",
   "execution_count": null,
   "metadata": {},
   "outputs": [],
   "source": []
  }
 ],
 "metadata": {
  "kernelspec": {
   "display_name": "Python 3 (ipykernel)",
   "language": "python",
   "name": "python3"
  },
  "language_info": {
   "codemirror_mode": {
    "name": "ipython",
    "version": 3
   },
   "file_extension": ".py",
   "mimetype": "text/x-python",
   "name": "python",
   "nbconvert_exporter": "python",
   "pygments_lexer": "ipython3",
   "version": "3.11.5"
  },
  "toc": {
   "base_numbering": 1,
   "nav_menu": {},
   "number_sections": true,
   "sideBar": true,
   "skip_h1_title": false,
   "title_cell": "Table of Contents",
   "title_sidebar": "Contents",
   "toc_cell": false,
   "toc_position": {},
   "toc_section_display": true,
   "toc_window_display": false
  },
  "varInspector": {
   "cols": {
    "lenName": 16,
    "lenType": 16,
    "lenVar": 40
   },
   "kernels_config": {
    "python": {
     "delete_cmd_postfix": "",
     "delete_cmd_prefix": "del ",
     "library": "var_list.py",
     "varRefreshCmd": "print(var_dic_list())"
    },
    "r": {
     "delete_cmd_postfix": ") ",
     "delete_cmd_prefix": "rm(",
     "library": "var_list.r",
     "varRefreshCmd": "cat(var_dic_list()) "
    }
   },
   "types_to_exclude": [
    "module",
    "function",
    "builtin_function_or_method",
    "instance",
    "_Feature"
   ],
   "window_display": false
  }
 },
 "nbformat": 4,
 "nbformat_minor": 4
}
