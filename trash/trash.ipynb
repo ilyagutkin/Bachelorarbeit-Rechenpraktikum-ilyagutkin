{
 "cells": [
  {
   "cell_type": "code",
   "execution_count": 2,
   "metadata": {},
   "outputs": [
    {
     "name": "stdout",
     "output_type": "stream",
     "text": [
      "[0, 1, 2, 3, 4, 5, 6, 7, 8, 9, 10, 11, 12, 13, 14, 15]\n"
     ]
    }
   ],
   "source": [
    "import numpy as np\n",
    "\n",
    "M = 2\n",
    "N= 2\n",
    "K = 2\n",
    "L =1\n",
    "a = np.array([[j*(M+1)+i,j*(M+1)+i+1,(j+1)*(M+1)+i,(j+1)*(M+1)+i+1] for i in range(M) for j in range(N) ])\n",
    "b = np.array([[k*(M+1)*(N+1)+j*(M+1)+i,k*(M+1)*(N+1)+j*(M+1)+i+1,k*(M+1)*(N+1)+(j+1)*(M+1)+i,k*(M+1)*(N+1)+(j+1)*(M+1)+i+1,(k+1)*(M+1)*(N+1)+j*(M+1)+i,(k+1)*(M+1)*(N+1)+j*(M+1)+i+1,(k+1)*(M+1)*(N+1)+(j+1)*(M+1)+i,(k+1)*(M+1)*(N+1)+(j+1)*(M+1)+i+1] for i in range(M) for j in range(N) for k in range(K)])\n",
    "#print(b)\n",
    "\n",
    "d = np.array([[l*(M+1)*(K+1)*(N+1)+k*(M+1)*(N+1)+j*(M+1)+i,l*(M+1)*(K+1)*(N+1)+k*(M+1)*(N+1)+j*(M+1)+i+1,\n",
    "                                     l*(M+1)*(K+1)*(N+1)+k*(M+1)*(N+1)+(j+1)*(M+1)+i,l*(M+1)*(K+1)*(N+1)+k*(M+1)*(N+1)+(j+1)*(M+1)+i+1,\n",
    "                                     l*(M+1)*(K+1)*(N+1)+(k+1)*(M+1)*(N+1)+j*(M+1)+i,l*(M+1)*(K+1)*(N+1)+(k+1)*(M+1)*(N+1)+j*(M+1)+i+1,\n",
    "                                     l*(M+1)*(K+1)*(N+1)+(k+1)*(M+1)*(N+1)+(j+1)*(M+1)+i,l*(M+1)*(K+1)*(N+1)+(k+1)*(M+1)*(N+1)+(j+1)*(M+1)+i+1,\n",
    "                                     (l+1)*(M+1)*(K+1)*(N+1)+k*(M+1)*(N+1)+j*(M+1)+i,(l+1)*(M+1)*(K+1)*(N+1)+k*(M+1)*(N+1)+j*(M+1)+i+1,\n",
    "                                     (l+1)*(M+1)*(K+1)*(N+1)+k*(M+1)*(N+1)+(j+1)*(M+1)+i,(l+1)*(M+1)*(K+1)*(N+1)+k*(M+1)*(N+1)+(j+1)*(M+1)+i+1,\n",
    "                                     (l+1)*(M+1)*(K+1)*(N+1)+(k+1)*(M+1)*(N+1)+j*(M+1)+i,(l+1)*(M+1)*(K+1)*(N+1)+(k+1)*(M+1)*(N+1)+j*(M+1)+i+1,\n",
    "                                     (l+1)*(M+1)*(K+1)*(N+1)+(k+1)*(M+1)*(N+1)+(j+1)*(M+1)+i,(l+1)*(M+1)*(K+1)*(N+1)+(k+1)*(M+1)*(N+1)+(j+1)*(M+1)+i+1] for i in range(M) for j in range(N) for k in range(K) for l in range(L)])\n",
    "\n",
    "\n",
    "\n",
    "c = np.array([[k*(M+1)*(N+1)+j*(M+1)+i,k*(M+1)*(N+1)+j*(M+1)+i+1,k*(M+1)*(N+1)+(j+1)*(M+1)+i,k*(M+1)*(N+1)+(j+1)*(M+1)+i+1]for i in range(M) for j in range(N) for k in range(K+1)]\n",
    "            +[[k*(M+1)*(N+1)+j*(M+1)+i,k*(M+1)*(N+1)+j*(M+1)+i+1,(k+1)*(M+1)*(N+1)+j*(M+1)+i,(k+1)*(M+1)*(N+1)+j*(M+1)+i+1]for i in range(M) for j in range(N+1) for k in range(K)]\n",
    "            +[[k*(M+1)*(N+1)+j*(M+1)+i,k*(M+1)*(N+1)+(j+1)*(M+1)+i,(k+1)*(M+1)*(N+1)+j*(M+1)+i,(k+1)*(M+1)*(N+1)+(j+1)*(M+1)+i]for i in range(M+1) for j in range(N) for k in range(K)])\n",
    "#print(c,len(c))\n",
    "\n",
    "d = np.array([[k*(M+1)*(N+1)+j*(M+1)+i,k*(M+1)*(N+1)+j*(M+1)+i+1]for  i in range(M) for j in range(N+1) for k in range(K+1)]\n",
    "             +[[k*(M+1)*(N+1)+j*(M+1)+i,k*(M+1)*(N+1)+(j+1)*(M+1)+i]for i in range(M+1) for j in range(N) for k in range(K+1)]\n",
    "            +[[k*(M+1)*(N+1)+j*(M+1)+i,(k+1)*(M+1)*(N+1)+j*(M+1)+i]for i in range(M+1) for j in range(N+1) for k in range(K)])\n",
    "#print(d,len(d))\n",
    "\n",
    "def rekursiv_bndry(lis):\n",
    "    if len(lis) == 1:\n",
    "        return [0,lis[0]]\n",
    "    else:\n",
    "        produkt1 = np.math.prod([x + 1 for x in lis])\n",
    "        first = lis.pop(0)\n",
    "        produkt = np.math.prod([x + 1 for x in lis])\n",
    "        bndry_vertices = rekursiv_bndry(lis)\n",
    "        #print(liste)\n",
    "        liste = []\n",
    "        liste += bndry_vertices\n",
    "        liste += [i + j*produkt for i in bndry_vertices for j in range(first)]\n",
    "        liste += [produkt1-1-i for i in range(produkt)]\n",
    "        liste += [i for i in range(produkt)]\n",
    "        return list(set(liste))\n",
    "\n",
    "f = [i +(M+1)*(N+1)*j for j in range(N) for i in range(M+1)]\\\n",
    "+ [M+i*(M+1) +(M+1)*(N+1)*j for j in range(N) for i in range(N+1)]\\\n",
    "+[i*(M+1) +(M+1)*(N+1)*j for j in range(N) for i in range(N+1)]\\\n",
    "+[(M+1)*(N+1)-i-1 +(M+1)*(N+1)*j for j in range(N)for i in range(0,M+1)]\\\n",
    "+[(M+1)*(N+1)*(K+1)-1-i for i in range((N+1)*(M+1))]\n",
    "\n",
    "#print(list(set(f)),len(f))\n",
    "print(rekursiv_bndry([1,1,1,1]))\n"
   ]
  },
  {
   "cell_type": "code",
   "execution_count": 4,
   "metadata": {},
   "outputs": [
    {
     "name": "stdout",
     "output_type": "stream",
     "text": [
      "[ 2  6 12 20]\n"
     ]
    }
   ],
   "source": [
    "liste = np.array([1,2,3,4])\n",
    "#liste += [1,3,45,6]\n",
    "print(liste*liste+liste)"
   ]
  }
 ],
 "metadata": {
  "kernelspec": {
   "display_name": "Python 3",
   "language": "python",
   "name": "python3"
  },
  "language_info": {
   "codemirror_mode": {
    "name": "ipython",
    "version": 3
   },
   "file_extension": ".py",
   "mimetype": "text/x-python",
   "name": "python",
   "nbconvert_exporter": "python",
   "pygments_lexer": "ipython3",
   "version": "3.8.10"
  }
 },
 "nbformat": 4,
 "nbformat_minor": 2
}
