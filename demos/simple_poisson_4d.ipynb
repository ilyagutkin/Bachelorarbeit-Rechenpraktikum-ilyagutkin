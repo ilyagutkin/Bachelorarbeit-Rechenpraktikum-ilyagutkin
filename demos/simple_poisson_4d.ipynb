{
 "cells": [
  {
   "cell_type": "code",
   "execution_count": 22,
   "metadata": {},
   "outputs": [
    {
     "name": "stdout",
     "output_type": "stream",
     "text": [
      "0 [ 0  1  3  4  9 10 12 13 27 28 30 31 36 37 39 40]\n",
      "[0.25 0.25 0.25 0.25]\n",
      "1 [27 28 30 31 36 37 39 40 54 55 57 58 63 64 66 67]\n",
      "[0.25 0.25 0.25 0.75]\n",
      "2 [ 9 10 12 13 18 19 21 22 36 37 39 40 45 46 48 49]\n",
      "[0.25 0.25 0.75 0.25]\n",
      "3 [36 37 39 40 45 46 48 49 63 64 66 67 72 73 75 76]\n",
      "[0.25 0.25 0.75 0.75]\n",
      "4 [ 3  4  6  7 12 13 15 16 30 31 33 34 39 40 42 43]\n",
      "[0.25 0.75 0.25 0.25]\n",
      "5 [30 31 33 34 39 40 42 43 57 58 60 61 66 67 69 70]\n",
      "[0.25 0.75 0.25 0.75]\n",
      "6 [12 13 15 16 21 22 24 25 39 40 42 43 48 49 51 52]\n",
      "[0.25 0.75 0.75 0.25]\n"
     ]
    }
   ],
   "source": [
    "from import_hack import *\n",
    "from methodsnm.mesh_4d import *\n",
    "from methodsnm.visualize import *\n",
    "import math\n",
    "import numpy as np\n",
    "np.math = math\n",
    "m=2\n",
    "mesh = StructuredTesseraktMesh(m,m,m,m)\n",
    "#DrawMesh2D(mesh)\n",
    "#print(mesh.points[mesh.elements()[6]])\n",
    "for elnr, verts in enumerate(mesh.elements()):\n",
    "    print(elnr,verts)\n",
    "    trafo = mesh.trafo(elnr)\n",
    "    print(trafo.map(np.array([0.5,0.5,0.5,0.5])))\n",
    "    if elnr == 6:\n",
    "        break\n",
    "# print(len(mesh.vertices),len(mesh.bndry_vertices),len(mesh.edges),len(mesh.bndry_edges),len(mesh.faces),len(mesh.bndry_faces),len(mesh.volumes),len(mesh.bndry_volumes))"
   ]
  },
  {
   "cell_type": "code",
   "execution_count": 23,
   "metadata": {},
   "outputs": [],
   "source": [
    "from methodsnm.fes import *\n",
    "fes = P1_Tesserakt_Space(mesh)\n",
    "#print(fes.eltype)\n"
   ]
  },
  {
   "cell_type": "code",
   "execution_count": 24,
   "metadata": {},
   "outputs": [],
   "source": [
    "from methodsnm.forms import *\n",
    "from methodsnm.formint import *\n",
    "from numpy import pi, cos ,sin, exp\n",
    "\n",
    "#blf = BilinearForm(fes)\n",
    "#c = GlobalFunction(lambda x: 1, mesh = mesh)\n",
    "#blf += LaplaceIntegral(c)\n",
    "#blf += MassIntegral(c)\n",
    "#blf.assemble()\n",
    "#\n",
    "#lf = LinearForm(fes)\n",
    "#f = GlobalFunction(lambda x: (1+4*pi**2)*sin(pi*x[0])*sin(pi*x[1])*sin(pi*x[2]), mesh = mesh)\n",
    "#lf += SourceIntegral(f)\n",
    "#lf.assemble()"
   ]
  },
  {
   "cell_type": "code",
   "execution_count": 25,
   "metadata": {},
   "outputs": [],
   "source": [
    "#print(blf.matrix, \"\\n\", lf.vector)"
   ]
  },
  {
   "cell_type": "code",
   "execution_count": 26,
   "metadata": {},
   "outputs": [],
   "source": [
    "#uh = FEFunction(fes)\n",
    "#left = mesh.filter_bndry_points(\"min\",0)\n",
    "#right = mesh.filter_bndry_points(\"max\",0)\n",
    "#bndry = left +right\n",
    "\n",
    "def list_diff(a, b):\n",
    "    \"\"\"Entfernt alle Elemente aus Liste a, die in Liste b enthalten sind.\"\"\"\n",
    "    return [x for x in a if x not in b]\n",
    "\n",
    "from scipy.sparse.linalg import spsolve\n",
    "from methodsnm.solver import solve_on_freedofs\n",
    "#freedofs = list_diff(mesh.vertices,mesh.bndry_vertices)\n",
    "##uh.vector = spsolve(blf.matrix, lf.vector)\n",
    "#uh.vector = solve_on_freedofs(blf.matrix,lf.vector,freedofs)"
   ]
  },
  {
   "cell_type": "code",
   "execution_count": 27,
   "metadata": {},
   "outputs": [],
   "source": [
    "from methodsnm.forms import compute_difference_L2\n",
    "\n",
    "#uex =  GlobalFunction(lambda x: sin(pi*x[0])*sin(pi*x[1])*sin(pi*x[2]), mesh = mesh)\n",
    "#l2diff = compute_difference_L2(uh, uex, mesh, intorder = 3)\n",
    "\n",
    "#print(\"l2diff =\", l2diff)"
   ]
  },
  {
   "cell_type": "code",
   "execution_count": 28,
   "metadata": {},
   "outputs": [],
   "source": [
    "uD = lambda x: cos(pi*x[0])*cos(pi*x[1])*cos(pi*x[2])\n",
    "#uD = lambda x: 0\n",
    "top= mesh.filter_bndry_points(\"max\",3)\n",
    "bottom= mesh.filter_bndry_points(\"min\",3)\n",
    "#bndry= mesh.bndry_vertices\n",
    "#bndry = list_diff(mesh.bndry_vertices,top)\n",
    "bndry = bottom\n",
    "freedofs = list_diff(mesh.vertices,bndry)\n",
    "uh2 =FEFunction(fes)\n",
    "uh2._set(uD, bndry=bndry)"
   ]
  },
  {
   "cell_type": "code",
   "execution_count": 29,
   "metadata": {},
   "outputs": [],
   "source": [
    "blf2 = BilinearForm(fes)\n",
    "c = GlobalFunction(lambda x: 1, mesh = mesh)\n",
    "blf2 += LaplaceIntegral_without_time1(c)\n",
    "blf2 += TimeIntegral(c)\n",
    "blf2.assemble()\n",
    "\n",
    "#uex =  GlobalFunction(lambda x: x[3], mesh = mesh)\n",
    "#uh2._set(lambda x: x[3], False)"
   ]
  },
  {
   "cell_type": "code",
   "execution_count": 30,
   "metadata": {},
   "outputs": [],
   "source": [
    "\n",
    "lf2 = LinearForm(fes)\n",
    "#f2 = GlobalFunction(lambda x: 3*pi**2*sin(pi*x[0])*sin(pi*x[1])*sin(pi*x[2]), mesh = mesh)\n",
    "#f2 = GlobalFunction(lambda x: 3*pi**2*cos(pi*x[0])*cos(pi*x[1])*cos(pi*x[2]), mesh = mesh)\n",
    "f3 = GlobalFunction(lambda x: 1, mesh = mesh)\n",
    "#lf2 += SourceIntegral(f2)\n",
    "#lf2 += SourceIntegral(f3)\n",
    "lf2.assemble()\n",
    "#print(lf2.vector)"
   ]
  },
  {
   "cell_type": "code",
   "execution_count": 31,
   "metadata": {},
   "outputs": [],
   "source": [
    "#print(blf2.matrix*np.array([0,0,0,0,0,0,0,0,1,1,1,1,1,1,1,1]))"
   ]
  },
  {
   "cell_type": "code",
   "execution_count": 32,
   "metadata": {},
   "outputs": [
    {
     "name": "stdout",
     "output_type": "stream",
     "text": [
      "l2diff = 0.054395741543702435\n"
     ]
    }
   ],
   "source": [
    "lf2.vector -= blf2.matrix * uh2.vector\n",
    "uh2.vector += solve_on_freedofs(blf2.matrix,lf2.vector,freedofs)\n",
    "#print(uh2.vector)\n",
    "uex =  GlobalFunction(lambda x: exp(-3*pi**2*x[3])*cos(pi*x[0])*cos(pi*x[1])*cos(pi*x[2]), mesh = mesh)\n",
    "#uex =  GlobalFunction(lambda x: x[3] + cos(pi*x[0])*cos(pi*x[1])*cos(pi*x[2]), mesh = mesh)\n",
    "#uex =  GlobalFunction(lambda x: x[3], mesh = mesh)\n",
    "\n",
    "#uex =  GlobalFunction(lambda x: x[3], mesh = mesh)\n",
    "l2diff = compute_difference_L2(uh2, uex, mesh, intorder = 3)\n",
    "\n",
    "print(\"l2diff =\", l2diff)"
   ]
  },
  {
   "cell_type": "code",
   "execution_count": 33,
   "metadata": {},
   "outputs": [
    {
     "name": "stdout",
     "output_type": "stream",
     "text": [
      "[ 1.00000000e+00  6.12323400e-17 -1.00000000e+00  6.12323400e-17\n",
      "  3.74939946e-33 -6.12323400e-17 -1.00000000e+00 -6.12323400e-17\n",
      "  1.00000000e+00  6.12323400e-17  3.74939946e-33 -6.12323400e-17\n",
      "  3.74939946e-33  2.29584502e-49 -3.74939946e-33 -6.12323400e-17\n",
      " -3.74939946e-33  6.12323400e-17 -1.00000000e+00 -6.12323400e-17\n",
      "  1.00000000e+00 -6.12323400e-17 -3.74939946e-33  6.12323400e-17\n",
      "  1.00000000e+00  6.12323400e-17 -1.00000000e+00 -3.28519856e-01\n",
      "  1.24186824e-12  3.28519856e-01  1.24188211e-12 -3.25074954e-17\n",
      " -1.24195844e-12  3.28519856e-01 -1.24195497e-12 -3.28519856e-01\n",
      " -1.99239413e-13  2.83950843e-17  1.99161698e-13 -1.15222054e-17\n",
      "  9.35882401e-18  3.08510427e-17  1.99170367e-13  5.51269375e-18\n",
      " -1.99236529e-13  3.28519856e-01 -1.24193384e-12 -3.28519856e-01\n",
      " -1.24193763e-12 -7.00341299e-19  1.24190120e-12 -3.28519856e-01\n",
      "  1.24190120e-12  3.28519856e-01  1.76895307e-01 -2.82709103e-13\n",
      " -1.76895307e-01 -2.82719511e-13 -1.21756609e-16  2.82705633e-13\n",
      " -1.76895307e-01  2.82688286e-13  1.76895307e-01  3.04328261e-13\n",
      " -1.14129721e-16 -3.04369894e-13 -1.00657623e-16 -7.17738514e-17\n",
      " -9.88292812e-17 -3.04394180e-13 -5.75531608e-17  3.04331730e-13\n",
      " -1.76895307e-01  2.82664000e-13  1.76895307e-01  2.82667469e-13\n",
      " -6.39455647e-17 -2.82747267e-13  1.76895307e-01 -2.82750736e-13\n",
      " -1.76895307e-01]\n"
     ]
    }
   ],
   "source": [
    "print(uh2.vector)"
   ]
  },
  {
   "cell_type": "code",
   "execution_count": null,
   "metadata": {},
   "outputs": [],
   "source": []
  },
  {
   "cell_type": "code",
   "execution_count": null,
   "metadata": {},
   "outputs": [],
   "source": []
  }
 ],
 "metadata": {
  "kernelspec": {
   "display_name": "Python 3",
   "language": "python",
   "name": "python3"
  },
  "language_info": {
   "codemirror_mode": {
    "name": "ipython",
    "version": 3
   },
   "file_extension": ".py",
   "mimetype": "text/x-python",
   "name": "python",
   "nbconvert_exporter": "python",
   "pygments_lexer": "ipython3",
   "version": "3.8.10"
  }
 },
 "nbformat": 4,
 "nbformat_minor": 2
}
