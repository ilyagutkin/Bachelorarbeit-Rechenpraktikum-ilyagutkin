{
 "cells": [
  {
   "cell_type": "code",
   "execution_count": 57,
   "metadata": {},
   "outputs": [
    {
     "name": "stdout",
     "output_type": "stream",
     "text": [
      "0 [  0   1   9  10  81  82  90  91 729 730 738 739 810 811 819 820]\n",
      "[0.0625 0.0625 0.0625 0.0625]\n",
      "1 [ 729  730  738  739  810  811  819  820 1458 1459 1467 1468 1539 1540\n",
      " 1548 1549]\n",
      "[0.0625 0.0625 0.1875 0.0625]\n",
      "2 [1458 1459 1467 1468 1539 1540 1548 1549 2187 2188 2196 2197 2268 2269\n",
      " 2277 2278]\n",
      "[0.0625 0.0625 0.3125 0.0625]\n",
      "3 [2187 2188 2196 2197 2268 2269 2277 2278 2916 2917 2925 2926 2997 2998\n",
      " 3006 3007]\n",
      "[0.0625 0.0625 0.4375 0.0625]\n",
      "4 [2916 2917 2925 2926 2997 2998 3006 3007 3645 3646 3654 3655 3726 3727\n",
      " 3735 3736]\n",
      "[0.0625 0.0625 0.5625 0.0625]\n",
      "5 [3645 3646 3654 3655 3726 3727 3735 3736 4374 4375 4383 4384 4455 4456\n",
      " 4464 4465]\n",
      "[0.0625 0.0625 0.6875 0.0625]\n",
      "6 [4374 4375 4383 4384 4455 4456 4464 4465 5103 5104 5112 5113 5184 5185\n",
      " 5193 5194]\n",
      "[0.0625 0.0625 0.8125 0.0625]\n"
     ]
    }
   ],
   "source": [
    "from import_hack import *\n",
    "from methodsnm.mesh_4d import *\n",
    "from methodsnm.visualize import *\n",
    "import numpy as np\n",
    "m=8\n",
    "mesh = StructuredTesseraktMesh(m,m,m,m)\n",
    "#DrawMesh2D(mesh)\n",
    "#print(mesh.points[mesh.elements()[6]])\n",
    "for elnr, verts in enumerate(mesh.elements()):\n",
    "    print(elnr,verts)\n",
    "    trafo = mesh.trafo(elnr)\n",
    "    print(trafo.map(np.array([0.5,0.5,0.5,0.5])))\n",
    "    if elnr == 6:\n",
    "        break\n",
    "# print(len(mesh.vertices),len(mesh.bndry_vertices),len(mesh.edges),len(mesh.bndry_edges),len(mesh.faces),len(mesh.bndry_faces),len(mesh.volumes),len(mesh.bndry_volumes))"
   ]
  },
  {
   "cell_type": "code",
   "execution_count": 58,
   "metadata": {},
   "outputs": [],
   "source": [
    "from methodsnm.fes import *\n",
    "fes = P1_Tesserakt_Space(mesh)\n",
    "#print(fes.eltype)\n"
   ]
  },
  {
   "cell_type": "code",
   "execution_count": 59,
   "metadata": {},
   "outputs": [],
   "source": [
    "from methodsnm.forms import *\n",
    "from methodsnm.formint import *\n",
    "from numpy import pi, cos ,sin\n",
    "\n",
    "blf = BilinearForm(fes)\n",
    "c = GlobalFunction(lambda x: 1, mesh = mesh)\n",
    "blf += LaplaceIntegral(c)\n",
    "blf += MassIntegral(c)\n",
    "blf.assemble()\n",
    "\n",
    "lf = LinearForm(fes)\n",
    "f = GlobalFunction(lambda x: (1+pi**2)*cos(pi*x[1]), mesh = mesh)\n",
    "lf += SourceIntegral(f)\n",
    "lf.assemble()"
   ]
  },
  {
   "cell_type": "code",
   "execution_count": 60,
   "metadata": {},
   "outputs": [
    {
     "name": "stdout",
     "output_type": "stream",
     "text": [
      "  (0, 0)\t0.0009775161732883681\n",
      "  (0, 1)\t0.0004892349231247608\n",
      "  (0, 9)\t0.0004892349231247608\n",
      "  (0, 10)\t9.53672961153535e-07\n",
      "  (0, 81)\t0.0004892349231247608\n",
      "  (0, 82)\t9.53672961153535e-07\n",
      "  (0, 90)\t9.53672961153535e-07\n",
      "  (0, 91)\t-0.00048732757720245366\n",
      "  (0, 729)\t0.0004892349231247608\n",
      "  (0, 730)\t9.53672961153535e-07\n",
      "  (0, 738)\t9.53672961153535e-07\n",
      "  (0, 739)\t-0.00048732757720245377\n",
      "  (0, 810)\t9.53672961153535e-07\n",
      "  (0, 811)\t-0.00048732757720245377\n",
      "  (0, 819)\t-0.00048732757720245377\n",
      "  (0, 820)\t-0.0009756088273660611\n",
      "  (1, 0)\t0.0004892349231247608\n",
      "  (1, 1)\t0.001955032347931989\n",
      "  (1, 2)\t0.0004892349231247608\n",
      "  (1, 9)\t9.53672961153535e-07\n",
      "  (1, 10)\t0.0009784698476047744\n",
      "  (1, 11)\t9.53672961153535e-07\n",
      "  (1, 81)\t9.53672961153535e-07\n",
      "  (1, 82)\t0.0009784698476047744\n",
      "  (1, 83)\t9.53672961153535e-07\n",
      "  :\t:\n",
      "  (6559, 6477)\t9.536756716589662e-07\n",
      "  (6559, 6478)\t0.0009784698530257852\n",
      "  (6559, 6479)\t9.536756716589662e-07\n",
      "  (6559, 6549)\t9.536756716589662e-07\n",
      "  (6559, 6550)\t0.0009784698530257852\n",
      "  (6559, 6551)\t9.536756716589662e-07\n",
      "  (6559, 6558)\t0.000489234927190519\n",
      "  (6559, 6559)\t0.0019550323560635053\n",
      "  (6559, 6560)\t0.000489234927190519\n",
      "  (6560, 5740)\t-0.0009756088273660611\n",
      "  (6560, 5741)\t-0.00048732757584720105\n",
      "  (6560, 5749)\t-0.00048732757584720105\n",
      "  (6560, 5750)\t9.536756716589662e-07\n",
      "  (6560, 5821)\t-0.00048732757584720105\n",
      "  (6560, 5822)\t9.536756716589662e-07\n",
      "  (6560, 5830)\t9.536756716589662e-07\n",
      "  (6560, 5831)\t0.0004892349271905189\n",
      "  (6560, 6469)\t-0.00048732757584720094\n",
      "  (6560, 6470)\t9.536756716589662e-07\n",
      "  (6560, 6478)\t9.536756716589662e-07\n",
      "  (6560, 6479)\t0.000489234927190519\n",
      "  (6560, 6550)\t9.536756716589662e-07\n",
      "  (6560, 6551)\t0.000489234927190519\n",
      "  (6560, 6559)\t0.000489234927190519\n",
      "  (6560, 6560)\t0.000977516178709379 \n",
      " [ 0.00016267  0.00032534  0.00032534 ... -0.00032534 -0.00032534\n",
      " -0.00016267]\n"
     ]
    }
   ],
   "source": [
    "print(blf.matrix, \"\\n\", lf.vector)"
   ]
  },
  {
   "cell_type": "code",
   "execution_count": 61,
   "metadata": {},
   "outputs": [],
   "source": [
    "uh = FEFunction(fes)\n",
    "from scipy.sparse.linalg import spsolve\n",
    "uh.vector = spsolve(blf.matrix, lf.vector)"
   ]
  },
  {
   "cell_type": "code",
   "execution_count": 62,
   "metadata": {},
   "outputs": [
    {
     "name": "stdout",
     "output_type": "stream",
     "text": [
      "l2diff = 0.016476910721807587\n"
     ]
    }
   ],
   "source": [
    "from methodsnm.forms import compute_difference_L2\n",
    "\n",
    "uex =  GlobalFunction(lambda x: cos(pi*x[1]), mesh = mesh)\n",
    "l2diff = compute_difference_L2(uh, uex, mesh, intorder = 6)\n",
    "\n",
    "print(\"l2diff =\", l2diff)"
   ]
  }
 ],
 "metadata": {
  "kernelspec": {
   "display_name": "Python 3",
   "language": "python",
   "name": "python3"
  },
  "language_info": {
   "codemirror_mode": {
    "name": "ipython",
    "version": 3
   },
   "file_extension": ".py",
   "mimetype": "text/x-python",
   "name": "python",
   "nbconvert_exporter": "python",
   "pygments_lexer": "ipython3",
   "version": "3.8.10"
  }
 },
 "nbformat": 4,
 "nbformat_minor": 2
}
