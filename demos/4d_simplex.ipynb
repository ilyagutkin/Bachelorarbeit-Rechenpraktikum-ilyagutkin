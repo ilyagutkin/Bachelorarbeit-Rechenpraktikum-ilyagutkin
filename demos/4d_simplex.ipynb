{
 "cells": [
  {
   "cell_type": "code",
   "execution_count": 19,
   "id": "1723cbc5",
   "metadata": {},
   "outputs": [
    {
     "name": "stdout",
     "output_type": "stream",
     "text": [
      "564\n",
      "564\n",
      "[[101 104 137 135 276]\n",
      " [242 245 278 276 417]\n",
      " [383 386 419 417 558]\n",
      " ...\n",
      " [ 24 165 188 189 258]\n",
      " [165 306 329 330 399]\n",
      " [306 447 470 471 540]]\n",
      "5460\n"
     ]
    }
   ],
   "source": [
    "from import_hack import *\n",
    "from methodsnm.mesh_4d import *\n",
    "from methodsnm.visualize import *\n",
    "import numpy as np\n",
    "from netgen.csg import unit_cube\n",
    "from ngsolve import Mesh,VOL\n",
    "\n",
    "ngmesh = Mesh(unit_cube.GenerateMesh(maxh=0.25))\n",
    "\n",
    "m=3\n",
    "\n",
    "mesh = UnstructuredHypertriangleMesh(m,ngmesh)\n",
    "print(len(mesh.points))\n",
    "print(len(mesh.vertices))\n",
    "print(mesh.hypercells)\n",
    "print(len(mesh.hypercells))"
   ]
  },
  {
   "cell_type": "code",
   "execution_count": 20,
   "id": "0ad8de77",
   "metadata": {},
   "outputs": [
    {
     "name": "stdout",
     "output_type": "stream",
     "text": [
      "564\n",
      "564\n"
     ]
    }
   ],
   "source": [
    "print(len(mesh.points))\n",
    "print(len(mesh.vertices))"
   ]
  },
  {
   "cell_type": "code",
   "execution_count": 21,
   "id": "dfc98062",
   "metadata": {},
   "outputs": [
    {
     "name": "stdout",
     "output_type": "stream",
     "text": [
      "564\n",
      "492\n"
     ]
    }
   ],
   "source": [
    "from methodsnm.fes import *\n",
    "fes = P1_Hypertriangle_Space(mesh)\n",
    "\n",
    "print(len(mesh.vertices))\n",
    "print(len(mesh.bndry_vertices))"
   ]
  },
  {
   "cell_type": "code",
   "execution_count": 22,
   "id": "46bc5564",
   "metadata": {},
   "outputs": [],
   "source": [
    "from methodsnm.forms import *\n",
    "from methodsnm.formint import *\n",
    "from numpy import pi, cos ,sin\n",
    "\n",
    "blf = BilinearForm(fes)\n",
    "c = GlobalFunction(lambda x: 1, mesh = mesh)\n",
    "blf += LaplaceIntegral(c)\n",
    "blf.assemble()\n",
    "\n",
    "lf = LinearForm(fes)\n",
    "f = GlobalFunction(lambda x: 4*pi**2*cos(pi*x[0])*cos(pi*x[1])*cos(pi*x[2])*cos(pi*x[3]), mesh = mesh)\n",
    "lf += SourceIntegral(f)\n",
    "lf.assemble()"
   ]
  },
  {
   "cell_type": "code",
   "execution_count": 23,
   "id": "abf28c48",
   "metadata": {},
   "outputs": [],
   "source": [
    "def list_diff(a, b):\n",
    "    \"\"\"Entfernt alle Elemente aus Liste a, die in Liste b enthalten sind.\"\"\"\n",
    "    return [x for x in a if x not in b]"
   ]
  },
  {
   "cell_type": "code",
   "execution_count": 24,
   "id": "c13c3369",
   "metadata": {},
   "outputs": [],
   "source": [
    "\n",
    "uh = FEFunction(fes)\n",
    "res = lf.vector - blf.matrix.dot(uh.vector)\n",
    "from scipy.sparse.linalg import spsolve\n",
    "from methodsnm.solver import solve_on_freedofs\n",
    "freedofs = list_diff(mesh.vertices,mesh.bndry_vertices)\n",
    "uh._set(lambda x: cos(pi*x[0])*cos(pi*x[1])*cos(pi*x[2])*cos(pi*x[3]), True)\n",
    "#uh.vector = spsolve(blf.matrix, lf.vector)\n",
    "uh.vector += solve_on_freedofs(blf.matrix,res,freedofs)\n"
   ]
  },
  {
   "cell_type": "code",
   "execution_count": 25,
   "id": "c09d1156",
   "metadata": {},
   "outputs": [
    {
     "name": "stdout",
     "output_type": "stream",
     "text": [
      "l2diff = 0.075269025245054\n"
     ]
    }
   ],
   "source": [
    "from methodsnm.forms import compute_difference_L2\n",
    "\n",
    "uex =  GlobalFunction(lambda x: cos(pi*x[0])*cos(pi*x[1])*cos(pi*x[2])*cos(pi*x[3]), mesh = mesh)\n",
    "l2diff = compute_difference_L2(uh, uex, mesh, intorder = 3)\n",
    "\n",
    "print(\"l2diff =\", l2diff)"
   ]
  }
 ],
 "metadata": {
  "kernelspec": {
   "display_name": "Python 3",
   "language": "python",
   "name": "python3"
  },
  "language_info": {
   "codemirror_mode": {
    "name": "ipython",
    "version": 3
   },
   "file_extension": ".py",
   "mimetype": "text/x-python",
   "name": "python",
   "nbconvert_exporter": "python",
   "pygments_lexer": "ipython3",
   "version": "3.8.10"
  }
 },
 "nbformat": 4,
 "nbformat_minor": 5
}
