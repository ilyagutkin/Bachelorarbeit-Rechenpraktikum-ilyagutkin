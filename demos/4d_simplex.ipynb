{
 "cells": [
  {
   "cell_type": "code",
   "execution_count": 1,
   "id": "1723cbc5",
   "metadata": {},
   "outputs": [
    {
     "name": "stdout",
     "output_type": "stream",
     "text": [
      "source module for methodsNM imported.\n"
     ]
    }
   ],
   "source": [
    "from import_hack import *\n",
    "from methodsnm.mesh_4d import *\n",
    "from methodsnm.visualize import *\n",
    "import numpy as np\n",
    "from netgen.csg import unit_cube\n",
    "from ngsolve import Mesh\n",
    "\n",
    "ngmesh = Mesh(unit_cube.GenerateMesh(maxh=0.3))\n",
    "m=3\n",
    "mesh = UnstructuredHypertriangleMesh(m,ngmesh)"
   ]
  },
  {
   "cell_type": "code",
   "execution_count": 2,
   "id": "dfc98062",
   "metadata": {},
   "outputs": [],
   "source": [
    "from methodsnm.fes import *\n",
    "fes = P1_Hypertriangle_Space(mesh)"
   ]
  },
  {
   "cell_type": "code",
   "execution_count": 3,
   "id": "46bc5564",
   "metadata": {},
   "outputs": [
    {
     "ename": "TypeError",
     "evalue": "can only concatenate str (not \"NoneType\") to str",
     "output_type": "error",
     "traceback": [
      "\u001b[0;31m---------------------------------------------------------------------------\u001b[0m",
      "\u001b[0;31mTypeError\u001b[0m                                 Traceback (most recent call last)",
      "Cell \u001b[0;32mIn[3], line 8\u001b[0m\n\u001b[1;32m      6\u001b[0m c \u001b[38;5;241m=\u001b[39m GlobalFunction(\u001b[38;5;28;01mlambda\u001b[39;00m x: \u001b[38;5;241m1\u001b[39m, mesh \u001b[38;5;241m=\u001b[39m mesh)\n\u001b[1;32m      7\u001b[0m blf \u001b[38;5;241m+\u001b[39m\u001b[38;5;241m=\u001b[39m TimeIntegral(c)\n\u001b[0;32m----> 8\u001b[0m \u001b[43mblf\u001b[49m\u001b[38;5;241;43m.\u001b[39;49m\u001b[43massemble\u001b[49m\u001b[43m(\u001b[49m\u001b[43m)\u001b[49m\n\u001b[1;32m     10\u001b[0m lf \u001b[38;5;241m=\u001b[39m LinearForm(fes)\n\u001b[1;32m     11\u001b[0m f \u001b[38;5;241m=\u001b[39m GlobalFunction(\u001b[38;5;28;01mlambda\u001b[39;00m x: pi\u001b[38;5;241m*\u001b[39mcos(pi\u001b[38;5;241m*\u001b[39mx[\u001b[38;5;241m3\u001b[39m]), mesh \u001b[38;5;241m=\u001b[39m mesh)\n",
      "File \u001b[0;32m~/Bachelorarbeit/methodsnmbetter/demos/../src/methodsnm/forms.py:65\u001b[0m, in \u001b[0;36mBilinearForm.assemble\u001b[0;34m(self)\u001b[0m\n\u001b[1;32m     63\u001b[0m elmat \u001b[38;5;241m=\u001b[39m np\u001b[38;5;241m.\u001b[39mzeros((\u001b[38;5;28mlen\u001b[39m(dofs_test), \u001b[38;5;28mlen\u001b[39m(dofs_trial)))\n\u001b[1;32m     64\u001b[0m \u001b[38;5;28;01mfor\u001b[39;00m integral \u001b[38;5;129;01min\u001b[39;00m \u001b[38;5;28mself\u001b[39m\u001b[38;5;241m.\u001b[39mintegrals:\n\u001b[0;32m---> 65\u001b[0m     elmat \u001b[38;5;241m+\u001b[39m\u001b[38;5;241m=\u001b[39m \u001b[43mintegral\u001b[49m\u001b[38;5;241;43m.\u001b[39;49m\u001b[43mcompute_element_matrix\u001b[49m\u001b[43m(\u001b[49m\u001b[43mfe_test\u001b[49m\u001b[43m,\u001b[49m\u001b[43m \u001b[49m\u001b[43mfe_trial\u001b[49m\u001b[43m,\u001b[49m\u001b[43m \u001b[49m\u001b[43mtrafo\u001b[49m\u001b[43m)\u001b[49m\n\u001b[1;32m     66\u001b[0m \u001b[38;5;28;01mfor\u001b[39;00m i, dofi \u001b[38;5;129;01min\u001b[39;00m \u001b[38;5;28menumerate\u001b[39m(dofs_test):\n\u001b[1;32m     67\u001b[0m     \u001b[38;5;28;01mfor\u001b[39;00m j, dofj \u001b[38;5;129;01min\u001b[39;00m \u001b[38;5;28menumerate\u001b[39m(dofs_trial):\n",
      "File \u001b[0;32m~/Bachelorarbeit/methodsnmbetter/demos/../src/methodsnm/formint.py:121\u001b[0m, in \u001b[0;36mTimeIntegral.compute_element_matrix\u001b[0;34m(self, fe_test, fe_trial, trafo, intrule)\u001b[0m\n\u001b[1;32m    119\u001b[0m     \u001b[38;5;28;01mif\u001b[39;00m fe_test\u001b[38;5;241m.\u001b[39meltype \u001b[38;5;241m!=\u001b[39m fe_trial\u001b[38;5;241m.\u001b[39meltype:\n\u001b[1;32m    120\u001b[0m         \u001b[38;5;28;01mraise\u001b[39;00m \u001b[38;5;167;01mException\u001b[39;00m(\u001b[38;5;124m\"\u001b[39m\u001b[38;5;124mFinite elements must have the same el. type\u001b[39m\u001b[38;5;124m\"\u001b[39m)\n\u001b[0;32m--> 121\u001b[0m     intrule \u001b[38;5;241m=\u001b[39m \u001b[43mselect_integration_rule\u001b[49m\u001b[43m(\u001b[49m\u001b[43mfe_test\u001b[49m\u001b[38;5;241;43m.\u001b[39;49m\u001b[43morder\u001b[49m\u001b[43m \u001b[49m\u001b[38;5;241;43m+\u001b[39;49m\u001b[43m \u001b[49m\u001b[43mfe_trial\u001b[49m\u001b[38;5;241;43m.\u001b[39;49m\u001b[43morder\u001b[49m\u001b[43m,\u001b[49m\u001b[43m \u001b[49m\u001b[43mfe_test\u001b[49m\u001b[38;5;241;43m.\u001b[39;49m\u001b[43meltype\u001b[49m\u001b[43m)\u001b[49m\n\u001b[1;32m    122\u001b[0m shapes_trial \u001b[38;5;241m=\u001b[39m fe_trial\u001b[38;5;241m.\u001b[39mevaluate(intrule\u001b[38;5;241m.\u001b[39mnodes, deriv \u001b[38;5;241m=\u001b[39m\u001b[38;5;28;01mTrue\u001b[39;00m)\n\u001b[1;32m    123\u001b[0m shapes_test \u001b[38;5;241m=\u001b[39m fe_test\u001b[38;5;241m.\u001b[39mevaluate(intrule\u001b[38;5;241m.\u001b[39mnodes)\n",
      "File \u001b[0;32m~/Bachelorarbeit/methodsnmbetter/demos/../src/methodsnm/intrule.py:44\u001b[0m, in \u001b[0;36mselect_integration_rule\u001b[0;34m(order, eltype)\u001b[0m\n\u001b[1;32m     42\u001b[0m     \u001b[38;5;28;01mreturn\u001b[39;00m IntRule4D(order)\n\u001b[1;32m     43\u001b[0m \u001b[38;5;28;01melse\u001b[39;00m:\n\u001b[0;32m---> 44\u001b[0m     \u001b[38;5;28;01mraise\u001b[39;00m \u001b[38;5;167;01mNotImplementedError\u001b[39;00m(\u001b[38;5;124;43m\"\u001b[39;49m\u001b[38;5;124;43mselect_integration_rule only implemented for segments and triangles and tesserakts (not for \u001b[39;49m\u001b[38;5;124;43m\"\u001b[39;49m\u001b[43m \u001b[49m\u001b[38;5;241;43m+\u001b[39;49m\u001b[43m \u001b[49m\u001b[43meltype\u001b[49m \u001b[38;5;241m+\u001b[39m \u001b[38;5;124m\"\u001b[39m\u001b[38;5;124m, yet)\u001b[39m\u001b[38;5;124m\"\u001b[39m)\n",
      "\u001b[0;31mTypeError\u001b[0m: can only concatenate str (not \"NoneType\") to str"
     ]
    }
   ],
   "source": [
    "from methodsnm.forms import *\n",
    "from methodsnm.formint import *\n",
    "from numpy import pi, cos ,sin\n",
    "\n",
    "blf = BilinearForm(fes)\n",
    "c = GlobalFunction(lambda x: 1, mesh = mesh)\n",
    "blf += TimeIntegral(c)\n",
    "blf.assemble()\n",
    "\n",
    "lf = LinearForm(fes)\n",
    "f = GlobalFunction(lambda x: pi*cos(pi*x[3]), mesh = mesh)\n",
    "lf += SourceIntegral(f)\n",
    "lf.assemble()"
   ]
  }
 ],
 "metadata": {
  "kernelspec": {
   "display_name": "Python 3",
   "language": "python",
   "name": "python3"
  },
  "language_info": {
   "codemirror_mode": {
    "name": "ipython",
    "version": 3
   },
   "file_extension": ".py",
   "mimetype": "text/x-python",
   "name": "python",
   "nbconvert_exporter": "python",
   "pygments_lexer": "ipython3",
   "version": "3.8.10"
  }
 },
 "nbformat": 4,
 "nbformat_minor": 5
}
