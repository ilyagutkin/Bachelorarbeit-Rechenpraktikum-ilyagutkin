{
 "cells": [
  {
   "cell_type": "code",
   "execution_count": 24,
   "id": "296496e8",
   "metadata": {},
   "outputs": [],
   "source": [
    "from import_hack import *\n",
    "from methodsnm.mesh_4d import *\n",
    "from methodsnm.visualize import *\n",
    "from methodsnm.solver import solve_on_freedofs\n",
    "from methodsnm.forms import *\n",
    "from methodsnm.formint import *\n",
    "import numpy as np\n",
    "from netgen.csg import unit_cube\n",
    "from ngsolve import Mesh,VOL,specialcf\n",
    "from methodsnm.fes import *\n",
    "from numpy import exp\n",
    "\n",
    "def list_diff(a, b):\n",
    "    \"\"\"Entfernt alle Elemente aus Liste a, die in Liste b enthalten sind.\"\"\"\n",
    "    return [x for x in a if x not in b]\n",
    "\n",
    "ngmesh = Mesh(unit_cube.GenerateMesh(maxh=0.25))\n",
    "T =3\n",
    "mesh = UnstructuredHypertriangleMesh(T,ngmesh)\n",
    "fes = P1_Hypertriangle_Space(mesh)\n"
   ]
  },
  {
   "cell_type": "code",
   "execution_count": 25,
   "id": "905df622",
   "metadata": {},
   "outputs": [
    {
     "name": "stdout",
     "output_type": "stream",
     "text": [
      "L2 difference: 0.13633169044401267\n"
     ]
    }
   ],
   "source": [
    "epsi = 0.001\n",
    "wind =1\n",
    "eps = GlobalFunction(lambda x: epsi, mesh = mesh)\n",
    "w = ConstantVectorFunction(np.array([1,1,1,1]), mesh = mesh)\n",
    "\n",
    "blf = BilinearForm(fes)\n",
    "blf += LaplaceIntegral_without_time(eps)\n",
    "blf += ConvectionIntegral(w)\n",
    "blf.assemble()\n",
    "\n",
    "f = lambda x: -(1 - exp((x[0]+x[1]+x[2] - 3)/epsi)) / (1 - exp(-1/epsi))* exp(-x[3])\n",
    "f = GlobalFunction(f, mesh = mesh)\n",
    "lf = LinearForm(fes)\n",
    "lf += SourceIntegral(f)\n",
    "lf.assemble()\n",
    "\n",
    "top = mesh.top_bndry_vertices\n",
    "initial = mesh.initial_bndry_vertices\n",
    "bndry = list_diff(mesh.bndry_vertices, top)\n",
    "freedofs = list_diff(mesh.vertices,bndry)\n",
    "\n",
    "uex = lambda x: (1 - exp((x[0]+x[1]+x[2] - 3)/epsi)) / (1 - exp(-1/epsi)) * exp(-x[3])\n",
    "uh = FEFunction(fes)\n",
    "uh._set(uex, bndry)\n",
    "\n",
    "res = lf.vector - blf.matrix.dot(uh.vector)\n",
    "uh.vector += solve_on_freedofs(blf.matrix,res,freedofs)\n",
    "from methodsnm.forms import compute_difference_L2\n",
    "u_exact = GlobalFunction(uex, mesh = mesh)\n",
    "l2diff = compute_difference_L2(uh, u_exact, mesh, intorder = 5)\n",
    "print(\"L2 difference:\", l2diff)"
   ]
  },
  {
   "cell_type": "code",
   "execution_count": 26,
   "id": "bc733c69",
   "metadata": {},
   "outputs": [
    {
     "name": "stdout",
     "output_type": "stream",
     "text": [
      "L2 difference: 0.02614878100206763\n"
     ]
    }
   ],
   "source": [
    "blf += SUPGIntegral(w)\n",
    "blf.assemble()\n",
    "\n",
    "lf += SUPGSourceIntegral(f, w)\n",
    "lf.assemble()\n",
    "\n",
    "uh = FEFunction(fes)\n",
    "uh._set(uex, bndry)\n",
    "\n",
    "res = lf.vector - blf.matrix.dot(uh.vector)\n",
    "uh.vector += solve_on_freedofs(blf.matrix,res,freedofs)\n",
    "from methodsnm.forms import compute_difference_L2\n",
    "u_exact = GlobalFunction(uex, mesh = mesh)\n",
    "l2diff = compute_difference_L2(uh, u_exact, mesh, intorder = 5)\n",
    "print(\"L2 difference:\", l2diff)"
   ]
  }
 ],
 "metadata": {
  "kernelspec": {
   "display_name": "Python 3",
   "language": "python",
   "name": "python3"
  },
  "language_info": {
   "codemirror_mode": {
    "name": "ipython",
    "version": 3
   },
   "file_extension": ".py",
   "mimetype": "text/x-python",
   "name": "python",
   "nbconvert_exporter": "python",
   "pygments_lexer": "ipython3",
   "version": "3.8.10"
  }
 },
 "nbformat": 4,
 "nbformat_minor": 5
}
