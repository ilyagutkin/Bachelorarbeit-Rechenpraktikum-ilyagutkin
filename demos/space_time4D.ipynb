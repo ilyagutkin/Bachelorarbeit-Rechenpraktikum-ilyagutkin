{
 "cells": [
  {
   "cell_type": "code",
   "execution_count": 1,
   "metadata": {},
   "outputs": [
    {
     "name": "stdout",
     "output_type": "stream",
     "text": [
      "source module for methodsNM imported.\n"
     ]
    }
   ],
   "source": [
    "from import_hack import *\n",
    "from methodsnm.mesh_4d import *\n",
    "from methodsnm.visualize import *\n",
    "import numpy as np\n",
    "m=4\n",
    "mesh = StructuredTesseraktMesh(m,m,m,m)"
   ]
  },
  {
   "cell_type": "code",
   "execution_count": 2,
   "metadata": {},
   "outputs": [],
   "source": [
    "from methodsnm.fes import *\n",
    "fes = P1_Tesserakt_Space(mesh)"
   ]
  },
  {
   "cell_type": "code",
   "execution_count": 3,
   "metadata": {},
   "outputs": [
    {
     "name": "stdout",
     "output_type": "stream",
     "text": [
      "Warning: Using numerical differentiation for deriv evaluation in <class 'methodsnm.fe_4d.P1_Tesserakt_FE'> object.\n"
     ]
    }
   ],
   "source": [
    "from methodsnm.forms import *\n",
    "from methodsnm.formint import *\n",
    "from numpy import pi, cos ,sin\n",
    "\n",
    "blf = BilinearForm(fes)\n",
    "c = GlobalFunction(lambda x: 1, mesh = mesh)\n",
    "#blf += LaplaceIntegral_without_time(c)\n",
    "blf += TimeIntegral(c)\n",
    "blf.assemble()\n",
    "\n",
    "lf = LinearForm(fes)\n",
    "f = GlobalFunction(lambda x: pi*cos(pi*x[3]), mesh = mesh)\n",
    "lf += SourceIntegral(f)\n",
    "lf.assemble()"
   ]
  },
  {
   "cell_type": "code",
   "execution_count": null,
   "metadata": {},
   "outputs": [
    {
     "name": "stdout",
     "output_type": "stream",
     "text": [
      "l2diff = 56966675.097956955\n"
     ]
    }
   ],
   "source": [
    "def list_diff(a, b):\n",
    "    \"\"\"Entfernt alle Elemente aus Liste a, die in Liste b enthalten sind.\"\"\"\n",
    "    return [x for x in a if x not in b]\n",
    "\n",
    "uh = FEFunction(fes)\n",
    "f = lambda x: sin(pi*x[3])\n",
    "uh._set(f, True)\n",
    "res = lf.vector - blf.matrix.dot(uh.vector)\n",
    "\n",
    "from scipy.sparse.linalg import spsolve\n",
    "from methodsnm.solver import solve_on_freedofs\n",
    "freedofs = list_diff(mesh.vertices,mesh.bndry_vertices)\n",
    "#uh.vector = spsolve(blf.matrix, lf.vector)\n",
    "uh.vector += solve_on_freedofs(blf.matrix,res,freedofs)\n",
    "from methodsnm.forms import compute_difference_L2\n",
    "\n",
    "uex =  GlobalFunction(lambda x: sin(pi*x[3]), mesh = mesh)\n",
    "l2diff = compute_difference_L2(uh, uex, mesh, intorder = 5)\n",
    "\n",
    "print(\"l2diff =\", l2diff)\n"
   ]
  },
  {
   "cell_type": "code",
   "execution_count": 5,
   "metadata": {},
   "outputs": [
    {
     "name": "stdout",
     "output_type": "stream",
     "text": [
      "l2diff = 4.2754064644713864e+16\n"
     ]
    }
   ],
   "source": [
    "def list_diff(a, b):\n",
    "    \"\"\"Entfernt alle Elemente aus Liste a, die in Liste b enthalten sind.\"\"\"\n",
    "    return [x for x in a if x not in b]\n",
    "\n",
    "top = mesh.filter_bndry_points(\"max\",3)\n",
    "boundary = list_diff(mesh.bndry_vertices,top)\n",
    "\n",
    "uh = FEFunction(fes)\n",
    "f = lambda x: sin(pi*x[0])*sin(pi*x[1])*sin(pi*x[2])\n",
    "uh._set(f, boundary=boundary)\n",
    "res = lf.vector - blf.matrix.dot(uh.vector)\n",
    "\n",
    "from scipy.sparse.linalg import spsolve\n",
    "from methodsnm.solver import solve_on_freedofs\n",
    "freedofs = list_diff(mesh.vertices,boundary)\n",
    "#uh.vector = spsolve(blf.matrix, lf.vector)\n",
    "uh.vector = solve_on_freedofs(blf.matrix,res,freedofs)\n",
    "\n",
    "from methodsnm.forms import compute_difference_L2\n",
    "\n",
    "uex =  GlobalFunction(lambda x: sin(pi*x[0])*sin(pi*x[1])*sin(pi*x[2])*np.exp(-3*pi**2*x[3]), mesh = mesh)\n",
    "l2diff = compute_difference_L2(uh, uex, mesh, intorder = 5)\n",
    "\n",
    "print(\"l2diff =\", l2diff)"
   ]
  }
 ],
 "metadata": {
  "kernelspec": {
   "display_name": "Python 3",
   "language": "python",
   "name": "python3"
  },
  "language_info": {
   "codemirror_mode": {
    "name": "ipython",
    "version": 3
   },
   "file_extension": ".py",
   "mimetype": "text/x-python",
   "name": "python",
   "nbconvert_exporter": "python",
   "pygments_lexer": "ipython3",
   "version": "3.8.10"
  }
 },
 "nbformat": 4,
 "nbformat_minor": 2
}
