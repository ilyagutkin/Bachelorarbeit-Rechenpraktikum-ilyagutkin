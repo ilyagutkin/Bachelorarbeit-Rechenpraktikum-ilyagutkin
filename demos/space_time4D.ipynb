{
 "cells": [
  {
   "cell_type": "code",
   "execution_count": null,
   "metadata": {},
   "outputs": [],
   "source": [
    "from import_hack import *\n",
    "from methodsnm.mesh_4d import *\n",
    "from methodsnm.visualize import *\n",
    "import numpy as np\n",
    "m=3\n",
    "mesh = StructuredTesseraktMesh(m,m,m,m)"
   ]
  },
  {
   "cell_type": "code",
   "execution_count": null,
   "metadata": {},
   "outputs": [],
   "source": [
    "from methodsnm.fes import *\n",
    "fes = P1_Tesserakt_Space(mesh)"
   ]
  },
  {
   "cell_type": "markdown",
   "metadata": {},
   "source": [
    "## Verification Example for the timeintegral: Solving the ODE *uₜ = t²*\n",
    "\n",
    "In the following, we consider the simple ordinary differential equation:\n",
    "\n",
    "$\n",
    "\\frac{\\partial u}{\\partial t} = t^2\n",
    "$\n",
    "\n",
    "This problem is purely time-dependent and serves as a minimal test case to verify the correct implementation of the time integral assembling procedure in the finite element framework.\n"
   ]
  },
  {
   "cell_type": "code",
   "execution_count": null,
   "metadata": {},
   "outputs": [],
   "source": [
    "from methodsnm.forms import *\n",
    "from methodsnm.formint import *\n",
    "from numpy import pi, cos ,sin\n",
    "\n",
    "blf = BilinearForm(fes)\n",
    "c = GlobalFunction(lambda x: 1, mesh = mesh)\n",
    "blf += TimeIntegral(c)\n",
    "blf.assemble()\n",
    "\n",
    "lf = LinearForm(fes)\n",
    "f = GlobalFunction(lambda x: pi*cos(pi*x[3]), mesh = mesh)\n",
    "lf += SourceIntegral(f)\n",
    "lf.assemble()"
   ]
  },
  {
   "cell_type": "code",
   "execution_count": null,
   "metadata": {},
   "outputs": [],
   "source": [
    "def list_diff(a, b):\n",
    "    \"\"\"Entfernt alle Elemente aus Liste a, die in Liste b enthalten sind.\"\"\"\n",
    "    return [x for x in a if x not in b]\n",
    "\n",
    "uh = FEFunction(fes)\n",
    "f = lambda x: sin(pi*x[3])\n",
    "uh._set(f, True)\n",
    "res = lf.vector - blf.matrix.dot(uh.vector)\n",
    "\n",
    "from scipy.sparse.linalg import spsolve\n",
    "from methodsnm.solver import solve_on_freedofs\n",
    "freedofs = list_diff(mesh.vertices,mesh.bndry_vertices)\n",
    "#uh.vector = spsolve(blf.matrix, lf.vector)\n",
    "uh.vector += solve_on_freedofs(blf.matrix,res,freedofs)\n",
    "from methodsnm.forms import compute_difference_L2\n",
    "\n",
    "uex =  GlobalFunction(f, mesh = mesh)\n",
    "l2diff = compute_difference_L2(uh, uex, mesh, intorder = 5)\n",
    "\n",
    "print(\"l2diff =\", l2diff)\n"
   ]
  },
  {
   "cell_type": "markdown",
   "metadata": {},
   "source": [
    "## Verification Example for the laplacian withouttime: Solving the ODE $u_{xx} = x²$\n",
    "\n",
    "In the following, we consider the simple ordinary differential equation:\n",
    "\n",
    "$\n",
    "-\\Delta u(x) = f(x), \\quad x \\in \\Omega\n",
    "$\n",
    "\n",
    "This problem is purely location-dependent and serves as a minimal test case to verify the correct implementation of the time integral assembling procedure in the finite element framework."
   ]
  },
  {
   "cell_type": "code",
   "execution_count": null,
   "metadata": {},
   "outputs": [],
   "source": [
    "blf3 = BilinearForm(fes)\n",
    "c = GlobalFunction(lambda x: 1, mesh = mesh)\n",
    "blf3 += LaplaceIntegral_without_time(c)\n",
    "blf3.assemble()\n",
    "\n",
    "lf3 = LinearForm(fes)\n",
    "f3 = GlobalFunction(lambda x: 3*pi*cos(pi*x[0])*cos(pi*x[1])*cos(pi*x[2]), mesh = mesh)\n",
    "lf3 += SourceIntegral(f3)\n",
    "lf3.assemble()\n",
    "\n",
    "def list_diff(a, b):\n",
    "    \"\"\"Entfernt alle Elemente aus Liste a, die in Liste b enthalten sind.\"\"\"\n",
    "    return [x for x in a if x not in b]\n",
    "\n",
    "uh3 = FEFunction(fes)\n",
    "f4 = lambda x: cos(pi*x[0])*cos(pi*x[1])*cos(pi*x[2])\n",
    "uh3._set(f4, True)\n",
    "res = lf3.vector - blf3.matrix.dot(uh3.vector)\n",
    "\n",
    "from methodsnm.solver import solve_on_freedofs\n",
    "freedofs = list_diff(mesh.vertices,mesh.bndry_vertices)\n",
    "uh3.vector += solve_on_freedofs(blf3.matrix,res,freedofs)\n",
    "from methodsnm.forms import compute_difference_L2\n",
    "\n",
    "uex =  GlobalFunction(f4, mesh = mesh)\n",
    "l2diff = compute_difference_L2(uh3, uex, mesh, intorder = 5)\n",
    "print(l2diff)"
   ]
  },
  {
   "cell_type": "markdown",
   "metadata": {},
   "source": [
    "## Verification Example: Solving the parabolic PDE \n",
    "\n",
    "In the following, we consider the simple ordinary differential equation:\n",
    "\n",
    "$-\\Delta u + \\frac{\\partial u}{\\partial t} = f$\n",
    "\n",
    "This problem is the mix off the two problems before and serves as a minimal test case to verify the correct implementation of the time integral + laplaceintegral assembling procedure in the finite element framework."
   ]
  },
  {
   "cell_type": "code",
   "execution_count": null,
   "metadata": {},
   "outputs": [],
   "source": [
    "from methodsnm.forms import *\n",
    "from methodsnm.formint import *\n",
    "from numpy import pi, cos ,sin\n",
    "\n",
    "blf3 = BilinearForm(fes)\n",
    "c = GlobalFunction(lambda x: 1, mesh = mesh)\n",
    "blf3 += TimeIntegral(c)\n",
    "blf3 += LaplaceIntegral_without_time(c)\n",
    "blf3.assemble()\n",
    "\n",
    "lf3 = LinearForm(fes)\n",
    "f3 = GlobalFunction(lambda x: 0, mesh = mesh)\n",
    "lf3 += SourceIntegral(f3)\n",
    "lf3.assemble()\n",
    "\n",
    "def list_diff(a, b):\n",
    "    \"\"\"Entfernt alle Elemente aus Liste a, die in Liste b enthalten sind.\"\"\"\n",
    "    return [x for x in a if x not in b]\n",
    "\n",
    "top = mesh.filter_bndry_points(\"max\",3)\n",
    "bndry = list_diff(mesh.bndry_vertices,top)\n",
    "\n",
    "uh = FEFunction(fes)\n",
    "f = lambda x: sin(pi*x[0])*sin(pi*x[1])*sin(pi*x[2])\n",
    "uh._set(f, bndry)\n",
    "res = lf3.vector - blf3.matrix.dot(uh.vector)\n",
    "\n",
    "from scipy.sparse.linalg import spsolve\n",
    "from methodsnm.solver import solve_on_freedofs\n",
    "freedofs = list_diff(mesh.vertices,bndry)\n",
    "#uh.vector = spsolve(blf.matrix, lf.vector)\n",
    "uh.vector += solve_on_freedofs(blf3.matrix,res,freedofs)\n",
    "\n",
    "from methodsnm.forms import compute_difference_L2\n",
    "\n",
    "uex =  GlobalFunction(lambda x: sin(pi*x[0])*sin(pi*x[1])*sin(pi*x[2])*np.exp(-3*pi**2*x[3]), mesh = mesh)\n",
    "l2diff = compute_difference_L2(uh, uex, mesh, intorder = 5)\n",
    "\n",
    "print(\"l2diff =\", l2diff)"
   ]
  }
 ],
 "metadata": {
  "kernelspec": {
   "display_name": "Python 3",
   "language": "python",
   "name": "python3"
  },
  "language_info": {
   "codemirror_mode": {
    "name": "ipython",
    "version": 3
   },
   "file_extension": ".py",
   "mimetype": "text/x-python",
   "name": "python",
   "nbconvert_exporter": "python",
   "pygments_lexer": "ipython3",
   "version": "3.8.10"
  }
 },
 "nbformat": 4,
 "nbformat_minor": 2
}
